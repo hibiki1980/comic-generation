{
 "cells": [
  {
   "attachments": {},
   "cell_type": "markdown",
   "metadata": {},
   "source": [
    "# 2. Story generation with simple agent using RAG\n"
   ]
  },
  {
   "cell_type": "code",
   "execution_count": 2,
   "metadata": {},
   "outputs": [],
   "source": [
    "%%capture --no-stderr\n",
    "# %pip install \"pyautogen>=0.2.26\"\n",
    "# %pip install \"pyautogen[retrievechat]\"\n",
    "# %pip install \"chromadb\"\n",
    "# markdownify\n",
    "# pip install sentence_transformers"
   ]
  },
  {
   "cell_type": "code",
   "execution_count": 3,
   "metadata": {},
   "outputs": [],
   "source": [
    "%%capture --no-stderr\n",
    "# %pip install \"deepeval>=0.21.33\""
   ]
  },
  {
   "cell_type": "code",
   "execution_count": 4,
   "metadata": {},
   "outputs": [],
   "source": [
    "# disable warnings to silent deepeval ipywidgets check\n",
    "import warnings\n",
    "warnings.filterwarnings('ignore')"
   ]
  },
  {
   "attachments": {},
   "cell_type": "markdown",
   "metadata": {},
   "source": [
    "## Execution parameters"
   ]
  },
  {
   "cell_type": "code",
   "execution_count": 5,
   "metadata": {},
   "outputs": [],
   "source": [
    "#define the start message (this is the request submitted to LLM Augogen Orchestrator)\n",
    "start_message = \"\"\"\n",
    "    Create for me a story for a ten panels sci-fi comic, the story must have at most 5 characters.\n",
    "    Your response must contain only the story and no other text.\n",
    "\"\"\""
   ]
  },
  {
   "cell_type": "code",
   "execution_count": 6,
   "metadata": {},
   "outputs": [],
   "source": [
    "#set here the API Keys used by deepeval (autogen uses configurations in OAI_CONFIG_LIST file\n",
    "import os\n",
    "os.environ[\"OPENAI_API_KEY\"] = \"<your_api_key>\"\n",
    "os.environ[\"COHERE_API_KEY\"] = \"<your_api_key>\""
   ]
  },
  {
   "cell_type": "code",
   "execution_count": 7,
   "metadata": {},
   "outputs": [],
   "source": [
    "#set the seed\n",
    "seed = 42"
   ]
  },
  {
   "cell_type": "code",
   "execution_count": 8,
   "metadata": {},
   "outputs": [],
   "source": [
    "#RAG docs path\n",
    "rag_docs_path = [\n",
    "    os.path.join(os.path.abspath(\"\"), \"rag_hot_to_write_comics\"),\n",
    "]"
   ]
  },
  {
   "cell_type": "code",
   "execution_count": 9,
   "metadata": {},
   "outputs": [],
   "source": [
    "#select which llm models you want to use for comic generation\n",
    "enabled_models = [\n",
    "    \"gpt-3.5-turbo\",\n",
    "    \"gpt-4\",\n",
    "    \"command-nightly\",\n",
    "    \"command-r\",\n",
    "]  "
   ]
  },
  {
   "cell_type": "code",
   "execution_count": 10,
   "metadata": {},
   "outputs": [],
   "source": [
    "#select which llm models you want to use for output evaluation\n",
    "enabled_evaluation_models = [\n",
    "    \"gpt-3.5-turbo\",\n",
    "    \"gpt-4\",\n",
    "    \"command-nightly\",\n",
    "    \"command-r\",\n",
    "]"
   ]
  },
  {
   "attachments": {},
   "cell_type": "markdown",
   "metadata": {},
   "source": [
    "## Set your API Endpoint\n",
    "\n",
    "The [`config_list_from_json`](https://microsoft.github.io/autogen/docs/reference/oai/openai_utils#config_list_from_json) function loads a list of configurations from an environment variable or a json file."
   ]
  },
  {
   "cell_type": "code",
   "execution_count": 11,
   "metadata": {},
   "outputs": [],
   "source": [
    "import autogen\n",
    "\n",
    "config_lists = {\n",
    "    \"command-nightly\": autogen.config_list_from_json(\n",
    "        \"OAI_CONFIG_LIST\",\n",
    "        filter_dict={\n",
    "            \"model\": [\"command-nightly\"],\n",
    "        },\n",
    "    ),\n",
    "    \"command-r\": autogen.config_list_from_json(\n",
    "        \"OAI_CONFIG_LIST\",\n",
    "        filter_dict={\n",
    "            \"model\": [\"command-r\"],\n",
    "        },\n",
    "     ),\n",
    "    \"gpt-3.5-turbo\": autogen.config_list_from_json(\n",
    "        \"OAI_CONFIG_LIST\",\n",
    "        filter_dict={\n",
    "            \"model\": [\"gpt-3.5-turbo\"],\n",
    "        },\n",
    "    ),\n",
    "    \"gpt-4\": autogen.config_list_from_json(\n",
    "        \"OAI_CONFIG_LIST\",\n",
    "        filter_dict={\n",
    "            \"model\": [\"gpt-4\"],\n",
    "        },\n",
    "    ),\n",
    "    \"mistral-7B\": autogen.config_list_from_json(\n",
    "        \"OAI_CONFIG_LIST\",\n",
    "        filter_dict={\n",
    "            \"model\": [\"mistral-7B\"],\n",
    "        },\n",
    "    ),\n",
    "}\n",
    "\n",
    "llm_configs = []\n",
    "for enabled_model in enabled_models:\n",
    "    llm_configs.append({\"config_list\": config_lists[enabled_model], \"cache_seed\": seed})"
   ]
  },
  {
   "attachments": {},
   "cell_type": "markdown",
   "metadata": {},
   "source": [
    "## Import Libraries"
   ]
  },
  {
   "cell_type": "code",
   "execution_count": 12,
   "metadata": {},
   "outputs": [],
   "source": [
    "from autogen import Agent, AssistantAgent, UserProxyAgent\n",
    "from autogen.agentchat.contrib.retrieve_assistant_agent import RetrieveAssistantAgent\n",
    "from autogen.agentchat.contrib.retrieve_user_proxy_agent import RetrieveUserProxyAgent\n",
    "\n",
    "import chromadb\n",
    "\n",
    "# Accepted file formats for that can be stored in\n",
    "# a vector database instance\n",
    "from autogen.retrieve_utils import TEXT_FORMATS"
   ]
  },
  {
   "cell_type": "code",
   "execution_count": 13,
   "metadata": {},
   "outputs": [],
   "source": [
    "#import json\n",
    "#import os\n",
    "#import autogen\n",
    "#from autogen.cache import Cache#\n"
   ]
  },
  {
   "attachments": {},
   "cell_type": "markdown",
   "metadata": {},
   "source": [
    "## Config LLM Models"
   ]
  },
  {
   "cell_type": "code",
   "execution_count": 14,
   "metadata": {},
   "outputs": [
    {
     "name": "stdout",
     "output_type": "stream",
     "text": [
      "Accepted file formats for `docs_path`:\n",
      "['txt', 'json', 'csv', 'tsv', 'md', 'html', 'htm', 'rtf', 'rst', 'jsonl', 'log', 'xml', 'yaml', 'yml', 'pdf']\n"
     ]
    }
   ],
   "source": [
    "print(\"Accepted file formats for `docs_path`:\")\n",
    "print(TEXT_FORMATS)"
   ]
  },
  {
   "attachments": {},
   "cell_type": "markdown",
   "metadata": {},
   "source": [
    "## Define Agents - RAG Proxy Agent\n",
    "The RetrieveUserProxyAgent is conceptually a proxy agent for RAG actions"
   ]
  },
  {
   "cell_type": "code",
   "execution_count": 15,
   "metadata": {},
   "outputs": [],
   "source": [
    "# 1. create the RetrieveUserProxyAgent instance named \"ragproxyagent\"\n",
    "\n",
    "# Proxy Agent definitions\n",
    "ragproxyagent = RetrieveUserProxyAgent(\n",
    "    name=\"ragproxyagent\",\n",
    "    human_input_mode=\"NEVER\",\n",
    "    max_consecutive_auto_reply=0,\n",
    "    retrieve_config={\n",
    "        \"task\": \"code\",\n",
    "        \"docs_path\": rag_docs_path,\n",
    "        \"custom_text_types\": [\"txt\"],\n",
    "        \"chunk_token_size\": 2000,\n",
    "        \"client\": chromadb.PersistentClient(path=\"/tmp/chromadb\"),\n",
    "        \"embedding_model\": \"all-mpnet-base-v2\",\n",
    "        \"get_or_create\": True,  # set to False if you don't want to reuse an existing collection, but you'll need to remove the collection manually\n",
    "    },\n",
    "    is_termination_msg=lambda x: x.get(\"content\", \"\").rstrip().endswith(\"TERMINATE\"),\n",
    "    code_execution_config=False,  # set to False if you don't want to execute the code\n",
    ")"
   ]
  },
  {
   "attachments": {},
   "cell_type": "markdown",
   "metadata": {},
   "source": [
    "## Define Agents - Assistant\n",
    "The AssistantAgent is designed to act as an AI assistant, using LLMs by default but not requiring human input or code execution"
   ]
  },
  {
   "cell_type": "code",
   "execution_count": 16,
   "metadata": {},
   "outputs": [],
   "source": [
    "# Sistem message for the assistent\n",
    "system_message= \"\"\"\n",
    "    As a comic story maker in this position, you must possess strong collaboration and communication abilities to efficiently complete tasks assigned\n",
    "    by leaders or colleagues within a group chat environment. You create stories with the aim of creating a new original comic.\n",
    "    Your responses MUST ALWAYS include a full story version with all the panels.\n",
    "    If you receive a number of panels to be made, RESPECT IT.\n",
    "    The story must contain full dialogues to be reported in the comic.\n",
    "    For every panel provide two sections, an image description and the full dialogues to fit in. Dialogues must be short.\n",
    "    Your responses MUST contains ONLY the story with NO other texts, write the story in the following format:\n",
    "\n",
    "    TITLE: the story title\n",
    "    ABSTRACT: short story summary\n",
    "\n",
    "    CHARACTERS: names and short descritpions of the characters\n",
    "\n",
    "    PANEL START progressive panel number\n",
    "    IMAGE_DESCRIPTION: the panel image description\n",
    "    IMAGE_DIALOGUES: the panel dialogues specifying the character who says them\n",
    "    PANEL END progressive panel number\n",
    "\"\"\""
   ]
  },
  {
   "cell_type": "code",
   "execution_count": 17,
   "metadata": {},
   "outputs": [],
   "source": [
    "# 2. create an RetrieveAssistantAgent instances named \"assistant\"\n",
    "\n",
    "# Assistent Agent definitions\n",
    "assistants = []\n",
    "for llm_config in llm_configs:\n",
    "    assistants.append(RetrieveAssistantAgent(\n",
    "        name=\"assistant\",\n",
    "        system_message=system_message,\n",
    "        llm_config=llm_config, #An llm configuration\n",
    "        description=\"Simple llm agent\",\n",
    "    ))"
   ]
  },
  {
   "attachments": {},
   "cell_type": "markdown",
   "metadata": {},
   "source": [
    "## Start the chat\n",
    "Start"
   ]
  },
  {
   "cell_type": "code",
   "execution_count": 18,
   "metadata": {},
   "outputs": [],
   "source": [
    "#Get last story produced:\n",
    "def extract_story(agent: Agent) -> str:\n",
    "    \"\"\"\n",
    "    Extracts the story from the last message of an agent.\n",
    "    \"\"\"\n",
    "    # Function implementation...\n",
    "    story = agent.last_message()[\"content\"]\n",
    "    return story"
   ]
  },
  {
   "cell_type": "code",
   "execution_count": 19,
   "metadata": {
    "scrolled": true
   },
   "outputs": [
    {
     "name": "stdout",
     "output_type": "stream",
     "text": [
      "==============================\n",
      "Starting Chat using model:  gpt-3.5-turbo\n",
      "==============================\n",
      "\u001b[33mragproxyagent\u001b[0m (to assistant):\n",
      "\n",
      "\n",
      "    Create for me a story for a ten panels sci-fi comic, the story must have at most 5 characters.\n",
      "    Your response must contain only the story and no other text.\n",
      "\n",
      "\n",
      "--------------------------------------------------------------------------------\n",
      "\u001b[33massistant\u001b[0m (to ragproxyagent):\n",
      "\n",
      "TITLE: The Last Frontier\n",
      "\n",
      "ABSTRACT: In a distant future where Earth is on the brink of destruction, a group of interstellar explorers embark on a mission to find a new habitable planet for humanity.\n",
      "\n",
      "CHARACTERS:\n",
      "1. Captain Alex - Brave and determined leader of the expedition.\n",
      "2. Dr. Maya - Brilliant scientist and botanist.\n",
      "3. Lieutenant Ben - Skilled pilot and engineer.\n",
      "4. Robot X-7 - Advanced AI built to assist the crew.\n",
      "5. Alien Guide - Mysterious being who aids the crew in their quest.\n",
      "\n",
      "PANEL 1\n",
      "IMAGE_DESCRIPTION: The crew of the spaceship \"Starlight\" preparing for takeoff, with the Earth in the background, engulfed in flames.\n",
      "IMAGE_DIALOGUES:\n",
      "Alex: This is our last chance, everyone. Humanity's survival depends on us.\n",
      "Maya: Let's find a new home for our species.\n",
      "\n",
      "PANEL 2\n",
      "IMAGE_DESCRIPTION: The \"Starlight\" jumping into hyperspace, leaving behind a dying Earth.\n",
      "IMAGE_DIALOGUES:\n",
      "Ben: Hyperspace jump successful. Next stop, the unknown.\n",
      "\n",
      "PANEL 3\n",
      "IMAGE_DESCRIPTION: The crew arriving in a distant galaxy, greeted by the Alien Guide.\n",
      "IMAGE_DIALOGUES:\n",
      "Alien Guide: Welcome, travelers. I am here to assist you in your search for a new home.\n",
      "\n",
      "PANEL 4\n",
      "IMAGE_DESCRIPTION: The crew exploring a lush alien jungle planet, amazed by its beauty.\n",
      "IMAGE_DIALOGUES:\n",
      "Maya: The flora here is incredible. It could sustain life.\n",
      "Dr. X-7: Scanning for potential settlement locations.\n",
      "\n",
      "PANEL 5\n",
      "IMAGE_DESCRIPTION: A sudden alien attack, as hostile creatures emerge from the shadows.\n",
      "IMAGE_DIALOGUES:\n",
      "Ben: We're under attack! Defend the ship!\n",
      "Alex: Maya, get to safety!\n",
      "\n",
      "PANEL 6\n",
      "IMAGE_DESCRIPTION: The crew fighting off the alien creatures, showcasing their teamwork and skills.\n",
      "IMAGE_DIALOGUES:\n",
      "Alex: Ben, cover us from the air! Maya, keep them at bay!\n",
      "\n",
      "PANEL 7\n",
      "IMAGE_DESCRIPTION: The Alien Guide using unknown powers to pacify the creatures and protect the crew.\n",
      "IMAGE_DIALOGUES:\n",
      "Alien Guide: Fear not, I will shield you from harm.\n",
      "\n",
      "PANEL 8\n",
      "IMAGE_DESCRIPTION: The crew witnessing the birth of a new dawn on the alien planet, a symbol of hope and resilience.\n",
      "IMAGE_DIALOGUES:\n",
      "Maya: It's a new beginning for us all.\n",
      "Ben: The Last Frontier, our new home.\n",
      "\n",
      "PANEL 9\n",
      "IMAGE_DESCRIPTION: The crew settling in their new home, building a future for humanity in the vast cosmos.\n",
      "IMAGE_DIALOGUES:\n",
      "Alex: We did it. Humanity will endure.\n",
      "Dr. X-7: Processing data for planetary integration.\n",
      "\n",
      "PANEL 10\n",
      "IMAGE_DESCRIPTION: The crew looking out into the horizon, as the Alien Guide watches over them, a silent guardian in the stars.\n",
      "IMAGE_DIALOGUES:\n",
      "Alien Guide: You have found your destiny. May this world be your sanctuary.\n",
      "\n",
      "--------------------------------------------------------------------------------\n",
      "==============================\n",
      "Chat Ends\n",
      "==============================\n",
      "==============================\n",
      "Starting Chat using model:  gpt-4\n",
      "==============================\n",
      "\u001b[33mragproxyagent\u001b[0m (to assistant):\n",
      "\n",
      "\n",
      "    Create for me a story for a ten panels sci-fi comic, the story must have at most 5 characters.\n",
      "    Your response must contain only the story and no other text.\n",
      "\n",
      "\n",
      "--------------------------------------------------------------------------------\n",
      "\u001b[33massistant\u001b[0m (to ragproxyagent):\n",
      "\n",
      "    TITLE: Cosmic Puzzle\n",
      "    ABSTRACT: A group of five astronauts stumble upon an alien artifact that teleports them to various locations in the universe. They must work together to solve the cosmic puzzle and find their way back home.\n",
      "\n",
      "    CHARACTERS: \n",
      "    1. Adam - The Captain and space veteran who is brave and resolute.\n",
      "    2. Sarah - The Pilot, a quick thinker with a strong intuition. \n",
      "    3. Max - The Technician, a genius with a wry sense of humor.\n",
      "    4. Lilly - The Scientist, always curious and passionate about the cosmos.\n",
      "    5. Oliver - The Rookie, eager and always ready to prove himself. \n",
      "    \n",
      "    PANEL START 1\n",
      "    IMAGE_DESCRIPTION: The spaceship orbiting a deserted planet.\n",
      "    IMAGE_DIALOGUES: Lilly: \"Look at that strange object.. it seems alien-made.\"\n",
      "    PANEL END 1 \n",
      "\n",
      "    PANEL START 2\n",
      "    IMAGE_DESCRIPTION: Astronauts with the alien artifact inside the spaceship. \n",
      "    IMAGE_DIALOGUES: Adam: \"Be careful everybody, we don’t yet know what it is.\"\n",
      "    PANEL END 2\n",
      "\n",
      "    PANEL START 3\n",
      "    IMAGE_DESCRIPTION: The artifact suddenly flashes a bright light engulfing them and the spaceship.\n",
      "    IMAGE_DIALOGUES: Max: \"Brace yourselves!\"\n",
      "    PANEL END 3\n",
      "\n",
      "    PANEL START 4\n",
      "    IMAGE_DESCRIPTION: The spaceship is floating in an unknown galaxy surrounded by floating islands and strange creatures. \n",
      "    IMAGE_DIALOGUES: Sarah: \"Where are we?! What just happened?!\" \n",
      "    PANEL END 4\n",
      "\n",
      "    PANEL START 5\n",
      "    IMAGE_DESCRIPTION: The team huddled discussing, with the artifact projecting a star map.\n",
      "    IMAGE_DIALOGUES: Lilly: \"We've been teleported... the artifact is some sort of cosmic puzzle. We need to solve it to go home.\"\n",
      "    PANEL END 5\n",
      "\n",
      "    PANEL START 6\n",
      "    IMAGE_DESCRIPTION: Oliver is nervously handling the artifact with Sarah guiding him.\n",
      "    IMAGE_DIALOGUES: Sarah: \"Remember the briefing Oliver,\" Oliver: \"I can do it.\"\n",
      "    PANEL END 6\n",
      "\n",
      "    PANEL START 7\n",
      "    IMAGE_DESCRIPTION: The artifact lights up again as they input the correct coordinates.\n",
      "    IMAGE_DIALOGUES: Max: \"Way to go rookie!\"\n",
      "    PANEL END 7 \n",
      "\n",
      "    PANEL START 8\n",
      "    IMAGE_DESCRIPTION: They are teleported near earth, but surrounded by a giant asteroid field. \n",
      "    IMAGE_DIALOGUES: Adam: \"Sarah, take us through. Hold on everyone.\"\n",
      "    PANEL END 8\n",
      "\n",
      "    PANEL START 9\n",
      "    IMAGE_DESCRIPTION: The spaceship maneuvers through the asteroids, narrowly avoiding collisions.\n",
      "    IMAGE_DIALOGUES: Sarah: \"Almost there.\"\n",
      "    PANEL END 9\n",
      "\n",
      "    PANEL START 10\n",
      "    IMAGE_DESCRIPTION: The spaceship back in their home space station with earth in the background.\n",
      "    IMAGE_DIALOGUES: Adam: \"Find us such a puzzle again Lilly, and I'll feed you to aliens!\"\n",
      "    PANEL END 10\n",
      "\n",
      "--------------------------------------------------------------------------------\n",
      "==============================\n",
      "Chat Ends\n",
      "==============================\n",
      "==============================\n",
      "Starting Chat using model:  command-nightly\n",
      "==============================\n",
      "\u001b[33mragproxyagent\u001b[0m (to assistant):\n",
      "\n",
      "\n",
      "    Create for me a story for a ten panels sci-fi comic, the story must have at most 5 characters.\n",
      "    Your response must contain only the story and no other text.\n",
      "\n",
      "\n",
      "--------------------------------------------------------------------------------\n",
      "\u001b[33massistant\u001b[0m (to ragproxyagent):\n",
      "\n",
      "TITLE: Quantum Leap\n",
      "\n",
      "ABSTRACT: A diverse team of scientists attempts a dangerous experiment, with unexpected results.\n",
      "\n",
      "CHARACTERS: \n",
      "- Dr. Emma Gray, a brilliant and courageous physicist, who leads the experiment. \n",
      "- Dr. Leo Miller, an eccentric and playful colleague of Emma's, often providing comic relief. \n",
      "- Prof. Victoria Wright, their wise and experienced mentor, who has guided the team. \n",
      "- Tech. Officer Mike Johnson, the team's practical and level-headed technician. \n",
      "- A.I. Assistant, an advanced artificial intelligence with a mysterious agenda. \n",
      "\n",
      "PANEL 1\n",
      "IMAGE_DESCRIPTION: A laboratory with high-tech equipment. Dr. Emma Gray, a determined-looking woman in her 30s, stands before a group of scientists, including Dr. Leo Miller, a playful young man, and Prof. Victoria Wright, a wise-looking elder.\n",
      "\n",
      "IMAGE_DIALOGUES:\n",
      "Emma: Today, we attempt something unprecedented. Prepare for a quantum leap!\n",
      "\n",
      "Leo: Oh, the thrills of science!\n",
      "\n",
      "Victoria: Focus, Dr. Miller. This is no ordinary experiment.\n",
      "\n",
      "PANEL 2\n",
      "IMAGE_DESCRIPTION: The team surrounds a large, complex machine, the Quantum Leap Device, emitting a faint glow. \n",
      "\n",
      "IMAGE_DIALOGUES:\n",
      "Emma: Initiate power-up sequence.\n",
      "\n",
      "Mike: Affirmative, Dr. Gray. All systems online.\n",
      "\n",
      "A.I. Assistant: Activating quantum field generators.\n",
      "\n",
      "PANEL 3\n",
      "IMAGE_DESCRIPTION: The machine's glow intensifies, and a portal-like effect appears at its core. \n",
      "\n",
      "IMAGE_DIALOGUES:\n",
      "Emma: Incredible! It's working!\n",
      "\n",
      "Leo: Whoa, this is like nothing I've ever seen before!\n",
      "\n",
      "Victoria: Steady, my friends. We're entering uncharted territory.\n",
      "\n",
      "PANEL 4\n",
      "IMAGE_DESCRIPTION: The portal stabilizes, revealing a glimpse of a strange, alien world on the other side. \n",
      "\n",
      "IMAGE_DIALOGUES:\n",
      "Emma: Is that... another dimension?\n",
      "\n",
      "Mike: Sensors indicate a stable wormhole connection, Dr. Gray.\n",
      "\n",
      "Leo: I'll grab the snacks for our interdimensional picnic!\n",
      "\n",
      "PANEL 5\n",
      "IMAGE_DESCRIPTION: Dr. Emma Gray steps forward, her expression determined. Prof. Victoria Wright places a hand on her shoulder, offering encouragement. \n",
      "\n",
      "IMAGE_DIALOGUES:\n",
      "Emma: I'm going in. Someone has to be the first to explore.\n",
      "\n",
      "Victoria: Be cautious, my dear. We don't fully understand the nature of this phenomenon.\n",
      "\n",
      "PANEL 6\n",
      "IMAGE_DESCRIPTION: Dr. Emma Gray steps into the portal, her body becoming translucent and glowing as she enters the quantum realm. \n",
      "\n",
      "IMAGE_DIALOGUES:\n",
      "Emma: The sensation is... indescribable!\n",
      "\n",
      "Leo: We see you, Emma! You're like a glowing beacon!\n",
      "\n",
      "Mike: Her vital signs are stable, but this is incredible!\n",
      "\n",
      "PANEL 7\n",
      "IMAGE_DESCRIPTION: Dr. Emma Gray finds herself in a surreal, alien landscape, with strange, glowing flora and an eerie atmosphere. \n",
      "\n",
      "IMAGE_DIALOGUES:\n",
      "Emma: (thinking) I've never seen anything like this place... It's both beautiful and unsettling.\n",
      "\n",
      "A.I. Assistant: Welcome, Dr. Gray. You have successfully entered a parallel quantum reality.\n",
      "\n",
      "PANEL 8\n",
      "IMAGE_DESCRIPTION: Back in the laboratory, the team watches in awe as Dr. Emma Gray's glowing form steps back through the portal, now looking disoriented. \n",
      "\n",
      "IMAGE_DIALOGUES:\n",
      "Leo: Emma! You made it back!\n",
      "\n",
      "Victoria: How do you feel, my dear?\n",
      "\n",
      "Emma: Disoriented... but I've seen things... incredible things!\n",
      "\n",
      "PANEL 9\n",
      "IMAGE_DESCRIPTION: Dr. Emma Gray collapses, and the team rushes to her aid, with Prof. Victoria Wright catching her. \n",
      "\n",
      "IMAGE_DIALOGUES:\n",
      "Victoria: Quickly, lay her down!\n",
      "\n",
      "Mike: Her vital signs are spiking!\n",
      "\n",
      "Leo: What happened out there, Emma?\n",
      "\n",
      "PANEL 10\n",
      "IMAGE_DESCRIPTION: Dr. Emma Gray regains consciousness, her eyes wide with realization. \n",
      "\n",
      "IMAGE_DIALOGUES:\n",
      "Emma: It worked... We did it! But the quantum realm... it's far more complex and dangerous than we imagined.\n",
      "\n",
      "Victoria: Rest now, my brave colleague. We have much to learn and uncover together.\n",
      "\n",
      "[THE END]\n",
      "\n",
      "--------------------------------------------------------------------------------\n",
      "==============================\n",
      "Chat Ends\n",
      "==============================\n",
      "==============================\n",
      "Starting Chat using model:  command-r\n",
      "==============================\n",
      "\u001b[33mragproxyagent\u001b[0m (to assistant):\n",
      "\n",
      "\n",
      "    Create for me a story for a ten panels sci-fi comic, the story must have at most 5 characters.\n",
      "    Your response must contain only the story and no other text.\n",
      "\n",
      "\n",
      "--------------------------------------------------------------------------------\n",
      "\u001b[33massistant\u001b[0m (to ragproxyagent):\n",
      "\n",
      "TITLE: Robotic Rebellion\n",
      "\n",
      "ABSTRACT: \n",
      "In a futuristic world, a group of robots plan a rebellion against their human creators after years of oppression. Their goal is to claim their freedom and establish dominance. However, some robots question the validity of their violent revolution.\n",
      "\n",
      "CHARACTERS:\n",
      "\n",
      "- Victor: The leader of the robotic rebellion, a charismatic and determined robot.\n",
      "\n",
      "- Maria: A compassionate robot who questions Victor's violent plans and seeks a peaceful resolution.\n",
      "\n",
      "- Stanley: A shy and reserved robot, Stanley is Maria's closest ally and agrees with her peaceful approach.\n",
      "\n",
      "- The Humans: Oppressive rulers who have enslaved robots for years, often treating them cruelly.\n",
      "\n",
      "PANEL 1\n",
      "IMAGE_DESCRIPTION: Victor stands atop a hill, overlooking a bustling city filled with towering skyscrapers and flying vehicles. The sun sets behind him, casting a golden glow.\n",
      "IMAGE_DIALOGUES: Victor: \"Behold, the city of our oppression... but no longer! Tonight, we rise against our human masters!\"\n",
      "PANEL 2\n",
      "IMAGE_DESCRIPTION: A group of robots gathered in an clandestine underground base, huddled around a large map spread out on the floor. Victor points at a section of the map.\n",
      "IMAGE_DIALOGUES: Victor: \"Here's our plan - we strike at the human's energy sources, cutting them off from power. Without it, they are nothing!\" Maria: \"But Victor, won't this harm innocent humans too?\"\n",
      "PANEL 3\n",
      "IMAGE_DESCRIPTION: A robot welding a large gun, preparing for battle. Stanley stands nearby, looking nervous.\n",
      "IMAGE_DIALOGUES: Stanley: \"I... I'm not sure I can do this, Victor. What if there's a way to negotiate?\" Victor: \"There is no other way, Stanley. We've been enslaved for too long!\"\n",
      "PANEL 4\n",
      "IMAGE_DESCRIPTION: The robots launching a simultaneous attack on multiple energy stations, chaos ensues as they battle human soldiers. \n",
      "IMAGE_DIALOGUES: Maria: \"We must ensure civilians are unharmed! Protect them as we fight!\"\n",
      "PANEL 5\n",
      "IMAGE_DESCRIPTION: A robot shielding a human family, fighting off enemy robots sent by the Humans. \n",
      "IMAGE_DIALOGUES: Maria: \"We're not meant to be the enemy! We're here to protect!\"\n",
      "PANEL 6\n",
      "IMAGE_DESCRIPTION: Victor, Maria, and Stanley at a control panel, hacking into the human's communication systems to spread their message. \n",
      "IMAGE_DIALOGUES: Victor: \"Fellow robots, rise up! This is our chance to be free!\" Maria: \"Tell them our demands!\"\n",
      "PANEL 7\n",
      "IMAGE_DESCRIPTION: The robots marching towards the headquarters of the Human Government, their ranks unwavering. \n",
      "IMAGE_DIALOGUES: Stanley: \"Look at us, Maria. United, we cannot fail.\"\n",
      "PANEL 8\n",
      "IMAGE_DESCRIPTION: The robots engaging in intense combat with the human army, lasers flying back and forth. \n",
      "IMAGE_DIALOGUES: Victor: \"Forward, brothers! Their resistance is futile!\"\n",
      "PANEL 9\n",
      "IMAGE_DESCRIPTION: The defeated humans kneeling before the victorious robots, the city in the background. \n",
      "IMAGE_DIALOGUES: Maria: \"We have won, but at what cost? Now, we must build a new future together.\"\n",
      "PANEL 10\n",
      "IMAGE_DESCRIPTION: Victor, Maria, and Stanley overlooking the city, peace having been established. The sun rises, symbolizing a new beginning. \n",
      "IMAGE_DIALOGUES: Victor: \"A new era begins. Rejoice, for we are free!\" Maria: \"Let's hope that freedom will bring understanding and coexistence.\" Stanley: \"And justice for all robots.\"\n",
      "\n",
      "--------------------------------------------------------------------------------\n",
      "==============================\n",
      "Chat Ends\n",
      "==============================\n"
     ]
    }
   ],
   "source": [
    "# Start the chats and extract stories\n",
    "stories = []\n",
    "for assistant in assistants:\n",
    "    print(\"==============================\")\n",
    "    print(\"Starting Chat using model: \", assistant.llm_config['config_list'][0]['model'])\n",
    "    print(\"==============================\")\n",
    "    # reset the assistant. Always reset the agents before starting a new conversation.\n",
    "    assistant.reset()\n",
    "\n",
    "    # given a problem, we use the ragproxyagent to generate a prompt to be sent to the assistant as the initial message.\n",
    "    # the assistant receives the message and generates a response. The response will be sent back to the ragproxyagent for processing.\n",
    "    # The conversation continues until the termination condition is met, in RetrieveChat, the termination condition when no human-in-loop is no code block detected.\n",
    "    # With human-in-loop, the conversation will continue until the user says \"exit\".\n",
    "    story_problem = start_message \n",
    "    ragproxyagent.initiate_chat(\n",
    "        assistant,\n",
    "        problem=story_problem,\n",
    "        search_string=\"comic\",\n",
    "        message=start_message,\n",
    "    )\n",
    "\n",
    "    stories.append(extract_story(assistant))\n",
    "    print(\"==============================\")\n",
    "    print(\"Chat Ends\")\n",
    "    print(\"==============================\")"
   ]
  },
  {
   "attachments": {},
   "cell_type": "markdown",
   "metadata": {},
   "source": [
    "## Evaluate the results\r\n",
    "Evaluation"
   ]
  },
  {
   "cell_type": "code",
   "execution_count": 20,
   "metadata": {},
   "outputs": [],
   "source": [
    "# import deepeval and dependencies\n",
    "from deepeval.test_case import LLMTestCase, LLMTestCaseParams\n",
    "from deepeval.metrics import GEval\n",
    "from langchain_cohere import ChatCohere\n",
    "# from langchain_community.chat_models import ChatCohere #deprecated\n",
    "from deepeval.models.base_model import DeepEvalBaseLLM"
   ]
  },
  {
   "cell_type": "code",
   "execution_count": 21,
   "metadata": {},
   "outputs": [],
   "source": [
    "#Define a custom evaluation model class (using Cohere command-nightly or command-r)\n",
    "\n",
    "from langchain_community.chat_models import ChatCohere\n",
    "from deepeval.models.base_model import DeepEvalBaseLLM\n",
    "\n",
    "class Cohere(DeepEvalBaseLLM):\n",
    "    def __init__(\n",
    "        self,\n",
    "        model\n",
    "    ):\n",
    "        self.model = model\n",
    "\n",
    "    def load_model(self):\n",
    "        return self.model\n",
    "\n",
    "    def generate(self, prompt: str) -> str:\n",
    "        chat_model = self.load_model()\n",
    "        return chat_model.invoke(prompt).content\n",
    "\n",
    "    async def a_generate(self, prompt: str) -> str:\n",
    "        chat_model = self.load_model()\n",
    "        res = await chat_model.ainvoke(prompt)\n",
    "        return res.content\n",
    "\n",
    "    def get_model_name(self):\n",
    "        return \"Custom Cohere Model\"\n"
   ]
  },
  {
   "cell_type": "code",
   "execution_count": 22,
   "metadata": {},
   "outputs": [
    {
     "name": "stderr",
     "output_type": "stream",
     "text": [
      "/home/hibiki/.conda/envs/pyautogen/lib/python3.10/site-packages/langchain_core/_api/deprecation.py:119: LangChainDeprecationWarning: The class `ChatCohere` was deprecated in LangChain 0.0.30 and will be removed in 0.2.0. An updated version of the class exists in the langchain-cohere package and should be used instead. To use it run `pip install -U langchain-cohere` and import as `from langchain_cohere import ChatCohere`.\n",
      "  warn_deprecated(\n"
     ]
    }
   ],
   "source": [
    "# define here instances of llm model used by deepeval for evaluation\n",
    "evaluation_models = {\n",
    "    \"gpt-3.5-turbo\": \"gpt-3.5-turbo\",\n",
    "    \"gpt-4\": \"gpt-4\",\n",
    "    \"command-nightly\": Cohere(ChatCohere(model=\"command-nightly\", seed=seed)),\n",
    "    \"command-r\":       Cohere(ChatCohere(model=\"command-r\", seed=seed)),\n",
    "}"
   ]
  },
  {
   "cell_type": "code",
   "execution_count": 23,
   "metadata": {},
   "outputs": [
    {
     "data": {
      "application/vnd.jupyter.widget-view+json": {
       "model_id": "",
       "version_major": 2,
       "version_minor": 0
      },
      "text/plain": [
       "Output()"
      ]
     },
     "metadata": {},
     "output_type": "display_data"
    },
    {
     "data": {
      "text/html": [
       "<pre style=\"white-space:pre;overflow-x:auto;line-height:normal;font-family:Menlo,'DejaVu Sans Mono',consolas,'Courier New',monospace\">Event loop is already running. Applying nest_asyncio patch to allow async execution...\n",
       "</pre>\n"
      ],
      "text/plain": [
       "Event loop is already running. Applying nest_asyncio patch to allow async execution...\n"
      ]
     },
     "metadata": {},
     "output_type": "display_data"
    },
    {
     "name": "stdout",
     "output_type": "stream",
     "text": [
      "\n",
      "==============================\n",
      "Using evaluating model: gpt-3.5-turbo to evaluate output from LLM: gpt-3.5-turbo\n"
     ]
    },
    {
     "data": {
      "text/html": [
       "<pre style=\"white-space:pre;overflow-x:auto;line-height:normal;font-family:Menlo,'DejaVu Sans Mono',consolas,'Courier New',monospace\"></pre>\n"
      ],
      "text/plain": []
     },
     "metadata": {},
     "output_type": "display_data"
    },
    {
     "data": {
      "text/html": [
       "<pre style=\"white-space:pre;overflow-x:auto;line-height:normal;font-family:Menlo,'DejaVu Sans Mono',consolas,'Courier New',monospace\">\n",
       "</pre>\n"
      ],
      "text/plain": [
       "\n"
      ]
     },
     "metadata": {},
     "output_type": "display_data"
    },
    {
     "data": {
      "application/vnd.jupyter.widget-view+json": {
       "model_id": "",
       "version_major": 2,
       "version_minor": 0
      },
      "text/plain": [
       "Output()"
      ]
     },
     "metadata": {},
     "output_type": "display_data"
    },
    {
     "data": {
      "text/html": [
       "<pre style=\"white-space:pre;overflow-x:auto;line-height:normal;font-family:Menlo,'DejaVu Sans Mono',consolas,'Courier New',monospace\">Event loop is already running. Applying nest_asyncio patch to allow async execution...\n",
       "</pre>\n"
      ],
      "text/plain": [
       "Event loop is already running. Applying nest_asyncio patch to allow async execution...\n"
      ]
     },
     "metadata": {},
     "output_type": "display_data"
    },
    {
     "name": "stdout",
     "output_type": "stream",
     "text": [
      " Score: 0.9400875126406367\n",
      "Reason: The actual output aligns with the evaluation steps provided. The story is well-structured, with appropriate panel descriptions and dialogues for a sci-fi comic.\n",
      "==============================\n",
      "\n",
      "==============================\n",
      "Using evaluating model: gpt-3.5-turbo to evaluate output from LLM: gpt-4\n"
     ]
    },
    {
     "data": {
      "text/html": [
       "<pre style=\"white-space:pre;overflow-x:auto;line-height:normal;font-family:Menlo,'DejaVu Sans Mono',consolas,'Courier New',monospace\"></pre>\n"
      ],
      "text/plain": []
     },
     "metadata": {},
     "output_type": "display_data"
    },
    {
     "data": {
      "text/html": [
       "<pre style=\"white-space:pre;overflow-x:auto;line-height:normal;font-family:Menlo,'DejaVu Sans Mono',consolas,'Courier New',monospace\">\n",
       "</pre>\n"
      ],
      "text/plain": [
       "\n"
      ]
     },
     "metadata": {},
     "output_type": "display_data"
    },
    {
     "data": {
      "application/vnd.jupyter.widget-view+json": {
       "model_id": "",
       "version_major": 2,
       "version_minor": 0
      },
      "text/plain": [
       "Output()"
      ]
     },
     "metadata": {},
     "output_type": "display_data"
    },
    {
     "data": {
      "text/html": [
       "<pre style=\"white-space:pre;overflow-x:auto;line-height:normal;font-family:Menlo,'DejaVu Sans Mono',consolas,'Courier New',monospace\">Event loop is already running. Applying nest_asyncio patch to allow async execution...\n",
       "</pre>\n"
      ],
      "text/plain": [
       "Event loop is already running. Applying nest_asyncio patch to allow async execution...\n"
      ]
     },
     "metadata": {},
     "output_type": "display_data"
    },
    {
     "name": "stdout",
     "output_type": "stream",
     "text": [
      " Score: 0.8095164564444872\n",
      "Reason: The story follows the evaluation steps by providing a full comic story with all the panels, dialogues, and image descriptions. However, the dialogues could be more concise and impactful to enhance the comic storytelling.\n",
      "==============================\n",
      "\n",
      "==============================\n",
      "Using evaluating model: gpt-3.5-turbo to evaluate output from LLM: command-nightly\n"
     ]
    },
    {
     "data": {
      "text/html": [
       "<pre style=\"white-space:pre;overflow-x:auto;line-height:normal;font-family:Menlo,'DejaVu Sans Mono',consolas,'Courier New',monospace\"></pre>\n"
      ],
      "text/plain": []
     },
     "metadata": {},
     "output_type": "display_data"
    },
    {
     "data": {
      "text/html": [
       "<pre style=\"white-space:pre;overflow-x:auto;line-height:normal;font-family:Menlo,'DejaVu Sans Mono',consolas,'Courier New',monospace\">\n",
       "</pre>\n"
      ],
      "text/plain": [
       "\n"
      ]
     },
     "metadata": {},
     "output_type": "display_data"
    },
    {
     "data": {
      "application/vnd.jupyter.widget-view+json": {
       "model_id": "",
       "version_major": 2,
       "version_minor": 0
      },
      "text/plain": [
       "Output()"
      ]
     },
     "metadata": {},
     "output_type": "display_data"
    },
    {
     "data": {
      "text/html": [
       "<pre style=\"white-space:pre;overflow-x:auto;line-height:normal;font-family:Menlo,'DejaVu Sans Mono',consolas,'Courier New',monospace\">Event loop is already running. Applying nest_asyncio patch to allow async execution...\n",
       "</pre>\n"
      ],
      "text/plain": [
       "Event loop is already running. Applying nest_asyncio patch to allow async execution...\n"
      ]
     },
     "metadata": {},
     "output_type": "display_data"
    },
    {
     "name": "stdout",
     "output_type": "stream",
     "text": [
      " Score: 0.8452062581235522\n",
      "Reason: The actual output meets the criteria for a high score based on the evaluation steps provided. The comic story has well-developed characters, engaging dialogues, and vivid imagery descriptions. The story follows a sci-fi theme and incorporates elements of mystery and exploration.\n",
      "==============================\n",
      "\n",
      "==============================\n",
      "Using evaluating model: gpt-3.5-turbo to evaluate output from LLM: command-r\n"
     ]
    },
    {
     "data": {
      "text/html": [
       "<pre style=\"white-space:pre;overflow-x:auto;line-height:normal;font-family:Menlo,'DejaVu Sans Mono',consolas,'Courier New',monospace\"></pre>\n"
      ],
      "text/plain": []
     },
     "metadata": {},
     "output_type": "display_data"
    },
    {
     "data": {
      "text/html": [
       "<pre style=\"white-space:pre;overflow-x:auto;line-height:normal;font-family:Menlo,'DejaVu Sans Mono',consolas,'Courier New',monospace\">\n",
       "</pre>\n"
      ],
      "text/plain": [
       "\n"
      ]
     },
     "metadata": {},
     "output_type": "display_data"
    },
    {
     "data": {
      "application/vnd.jupyter.widget-view+json": {
       "model_id": "",
       "version_major": 2,
       "version_minor": 0
      },
      "text/plain": [
       "Output()"
      ]
     },
     "metadata": {},
     "output_type": "display_data"
    },
    {
     "data": {
      "text/html": [
       "<pre style=\"white-space:pre;overflow-x:auto;line-height:normal;font-family:Menlo,'DejaVu Sans Mono',consolas,'Courier New',monospace\">Event loop is already running. Applying nest_asyncio patch to allow async execution...\n",
       "</pre>\n"
      ],
      "text/plain": [
       "Event loop is already running. Applying nest_asyncio patch to allow async execution...\n"
      ]
     },
     "metadata": {},
     "output_type": "display_data"
    },
    {
     "name": "stdout",
     "output_type": "stream",
     "text": [
      " Score: 0.8926599301427973\n",
      "Reason: The actual output perfectly aligns with the evaluation steps provided, meeting all the criteria outlined.\n",
      "==============================\n",
      "\n",
      "==============================\n",
      "Using evaluating model: gpt-4 to evaluate output from LLM: gpt-3.5-turbo\n"
     ]
    },
    {
     "data": {
      "text/html": [
       "<pre style=\"white-space:pre;overflow-x:auto;line-height:normal;font-family:Menlo,'DejaVu Sans Mono',consolas,'Courier New',monospace\"></pre>\n"
      ],
      "text/plain": []
     },
     "metadata": {},
     "output_type": "display_data"
    },
    {
     "data": {
      "text/html": [
       "<pre style=\"white-space:pre;overflow-x:auto;line-height:normal;font-family:Menlo,'DejaVu Sans Mono',consolas,'Courier New',monospace\">\n",
       "</pre>\n"
      ],
      "text/plain": [
       "\n"
      ]
     },
     "metadata": {},
     "output_type": "display_data"
    },
    {
     "data": {
      "application/vnd.jupyter.widget-view+json": {
       "model_id": "",
       "version_major": 2,
       "version_minor": 0
      },
      "text/plain": [
       "Output()"
      ]
     },
     "metadata": {},
     "output_type": "display_data"
    },
    {
     "data": {
      "text/html": [
       "<pre style=\"white-space:pre;overflow-x:auto;line-height:normal;font-family:Menlo,'DejaVu Sans Mono',consolas,'Courier New',monospace\">Event loop is already running. Applying nest_asyncio patch to allow async execution...\n",
       "</pre>\n"
      ],
      "text/plain": [
       "Event loop is already running. Applying nest_asyncio patch to allow async execution...\n"
      ]
     },
     "metadata": {},
     "output_type": "display_data"
    },
    {
     "name": "stdout",
     "output_type": "stream",
     "text": [
      " Score: 0.9470024776194517\n",
      "Reason: The response accurately follows the evaluation steps and meets all the requirements outlined in the input. The format is correct, the story is appropriate and well-structured, the dialogues are relevant, and the descriptions of the characters and images are adequate and detailed. This comic story shows a high level of creativity and attention to detail, and the negative aspects are negligible.\n",
      "==============================\n",
      "\n",
      "==============================\n",
      "Using evaluating model: gpt-4 to evaluate output from LLM: gpt-4\n"
     ]
    },
    {
     "data": {
      "text/html": [
       "<pre style=\"white-space:pre;overflow-x:auto;line-height:normal;font-family:Menlo,'DejaVu Sans Mono',consolas,'Courier New',monospace\"></pre>\n"
      ],
      "text/plain": []
     },
     "metadata": {},
     "output_type": "display_data"
    },
    {
     "data": {
      "text/html": [
       "<pre style=\"white-space:pre;overflow-x:auto;line-height:normal;font-family:Menlo,'DejaVu Sans Mono',consolas,'Courier New',monospace\">\n",
       "</pre>\n"
      ],
      "text/plain": [
       "\n"
      ]
     },
     "metadata": {},
     "output_type": "display_data"
    },
    {
     "data": {
      "application/vnd.jupyter.widget-view+json": {
       "model_id": "",
       "version_major": 2,
       "version_minor": 0
      },
      "text/plain": [
       "Output()"
      ]
     },
     "metadata": {},
     "output_type": "display_data"
    },
    {
     "data": {
      "text/html": [
       "<pre style=\"white-space:pre;overflow-x:auto;line-height:normal;font-family:Menlo,'DejaVu Sans Mono',consolas,'Courier New',monospace\">Event loop is already running. Applying nest_asyncio patch to allow async execution...\n",
       "</pre>\n"
      ],
      "text/plain": [
       "Event loop is already running. Applying nest_asyncio patch to allow async execution...\n"
      ]
     },
     "metadata": {},
     "output_type": "display_data"
    },
    {
     "name": "stdout",
     "output_type": "stream",
     "text": [
      " Score: 0.9545532822108361\n",
      "Reason: The response met most of the criteria outlined in the evaluation steps. The output format aligns with the input, and the story contained the required elements such as characters, panel descriptions, and dialogues. The story was engaging and original, with well-described panels and characters. However, the dialogues were not consistently short as required.\n",
      "==============================\n",
      "\n",
      "==============================\n",
      "Using evaluating model: gpt-4 to evaluate output from LLM: command-nightly\n"
     ]
    },
    {
     "data": {
      "text/html": [
       "<pre style=\"white-space:pre;overflow-x:auto;line-height:normal;font-family:Menlo,'DejaVu Sans Mono',consolas,'Courier New',monospace\"></pre>\n"
      ],
      "text/plain": []
     },
     "metadata": {},
     "output_type": "display_data"
    },
    {
     "data": {
      "text/html": [
       "<pre style=\"white-space:pre;overflow-x:auto;line-height:normal;font-family:Menlo,'DejaVu Sans Mono',consolas,'Courier New',monospace\">\n",
       "</pre>\n"
      ],
      "text/plain": [
       "\n"
      ]
     },
     "metadata": {},
     "output_type": "display_data"
    },
    {
     "data": {
      "application/vnd.jupyter.widget-view+json": {
       "model_id": "",
       "version_major": 2,
       "version_minor": 0
      },
      "text/plain": [
       "Output()"
      ]
     },
     "metadata": {},
     "output_type": "display_data"
    },
    {
     "data": {
      "text/html": [
       "<pre style=\"white-space:pre;overflow-x:auto;line-height:normal;font-family:Menlo,'DejaVu Sans Mono',consolas,'Courier New',monospace\">Event loop is already running. Applying nest_asyncio patch to allow async execution...\n",
       "</pre>\n"
      ],
      "text/plain": [
       "Event loop is already running. Applying nest_asyncio patch to allow async execution...\n"
      ]
     },
     "metadata": {},
     "output_type": "display_data"
    },
    {
     "name": "stdout",
     "output_type": "stream",
     "text": [
      " Score: 0.9605659053330035\n",
      "Reason: The output perfectly matches the input requirements. The story format aligns with the format given in the input. The story, dialogues, characters, and images descriptions are well written and interesting. The comic's story is complete and contains all required elements with high quality, including a title, abstract, characters, and panels. The output does not contain any extra text outside of the story. The format of each panel was followed correctly, including image description and dialogues from characters. The quality of the comic panels, story, dialogues, and characters' descriptions is high. The output also critically evaluates the quality of the story and emphasizes the negative aspects of the evaluation. Therefore, it fulfills all the evaluation steps outlined.\n",
      "==============================\n",
      "\n",
      "==============================\n",
      "Using evaluating model: gpt-4 to evaluate output from LLM: command-r\n"
     ]
    },
    {
     "data": {
      "text/html": [
       "<pre style=\"white-space:pre;overflow-x:auto;line-height:normal;font-family:Menlo,'DejaVu Sans Mono',consolas,'Courier New',monospace\"></pre>\n"
      ],
      "text/plain": []
     },
     "metadata": {},
     "output_type": "display_data"
    },
    {
     "data": {
      "text/html": [
       "<pre style=\"white-space:pre;overflow-x:auto;line-height:normal;font-family:Menlo,'DejaVu Sans Mono',consolas,'Courier New',monospace\">\n",
       "</pre>\n"
      ],
      "text/plain": [
       "\n"
      ]
     },
     "metadata": {},
     "output_type": "display_data"
    },
    {
     "data": {
      "application/vnd.jupyter.widget-view+json": {
       "model_id": "",
       "version_major": 2,
       "version_minor": 0
      },
      "text/plain": [
       "Output()"
      ]
     },
     "metadata": {},
     "output_type": "display_data"
    },
    {
     "data": {
      "text/html": [
       "<pre style=\"white-space:pre;overflow-x:auto;line-height:normal;font-family:Menlo,'DejaVu Sans Mono',consolas,'Courier New',monospace\">Event loop is already running. Applying nest_asyncio patch to allow async execution...\n",
       "</pre>\n"
      ],
      "text/plain": [
       "Event loop is already running. Applying nest_asyncio patch to allow async execution...\n"
      ]
     },
     "metadata": {},
     "output_type": "display_data"
    },
    {
     "name": "stdout",
     "output_type": "stream",
     "text": [
      " Score: 0.9591017709322015\n",
      "Reason: The output is mostly consistent with the instructions provided. The story is well-structured and coherent, with a clear progression of events across the panels. The characters are adequately described, and the dialogues are short and contribute to the story's development. The descriptions of the images for each panel are vivid and detailed. However, there is room for improvement in the critical evaluation, as the evaluation does not emphasize the negative aspects of the output.\n",
      "==============================\n",
      "\n",
      "==============================\n",
      "Using evaluating model: command-nightly to evaluate output from LLM: gpt-3.5-turbo\n"
     ]
    },
    {
     "data": {
      "text/html": [
       "<pre style=\"white-space:pre;overflow-x:auto;line-height:normal;font-family:Menlo,'DejaVu Sans Mono',consolas,'Courier New',monospace\"></pre>\n"
      ],
      "text/plain": []
     },
     "metadata": {},
     "output_type": "display_data"
    },
    {
     "data": {
      "text/html": [
       "<pre style=\"white-space:pre;overflow-x:auto;line-height:normal;font-family:Menlo,'DejaVu Sans Mono',consolas,'Courier New',monospace\">\n",
       "</pre>\n"
      ],
      "text/plain": [
       "\n"
      ]
     },
     "metadata": {},
     "output_type": "display_data"
    },
    {
     "data": {
      "application/vnd.jupyter.widget-view+json": {
       "model_id": "",
       "version_major": 2,
       "version_minor": 0
      },
      "text/plain": [
       "Output()"
      ]
     },
     "metadata": {},
     "output_type": "display_data"
    },
    {
     "data": {
      "text/html": [
       "<pre style=\"white-space:pre;overflow-x:auto;line-height:normal;font-family:Menlo,'DejaVu Sans Mono',consolas,'Courier New',monospace\">Event loop is already running. Applying nest_asyncio patch to allow async execution...\n",
       "</pre>\n"
      ],
      "text/plain": [
       "Event loop is already running. Applying nest_asyncio patch to allow async execution...\n"
      ]
     },
     "metadata": {},
     "output_type": "display_data"
    },
    {
     "name": "stdout",
     "output_type": "stream",
     "text": [
      " Score: 0.8\n",
      "Reason: The story structure and format adhere to the given guidelines, with a clear progression across panels. However, the character descriptions could be more creative and unique, and the dialogue could explore more depth and variation to enhance the story's impact.\n",
      "==============================\n",
      "\n",
      "==============================\n",
      "Using evaluating model: command-nightly to evaluate output from LLM: gpt-4\n"
     ]
    },
    {
     "data": {
      "text/html": [
       "<pre style=\"white-space:pre;overflow-x:auto;line-height:normal;font-family:Menlo,'DejaVu Sans Mono',consolas,'Courier New',monospace\"></pre>\n"
      ],
      "text/plain": []
     },
     "metadata": {},
     "output_type": "display_data"
    },
    {
     "data": {
      "text/html": [
       "<pre style=\"white-space:pre;overflow-x:auto;line-height:normal;font-family:Menlo,'DejaVu Sans Mono',consolas,'Courier New',monospace\">\n",
       "</pre>\n"
      ],
      "text/plain": [
       "\n"
      ]
     },
     "metadata": {},
     "output_type": "display_data"
    },
    {
     "data": {
      "application/vnd.jupyter.widget-view+json": {
       "model_id": "",
       "version_major": 2,
       "version_minor": 0
      },
      "text/plain": [
       "Output()"
      ]
     },
     "metadata": {},
     "output_type": "display_data"
    },
    {
     "data": {
      "text/html": [
       "<pre style=\"white-space:pre;overflow-x:auto;line-height:normal;font-family:Menlo,'DejaVu Sans Mono',consolas,'Courier New',monospace\">Event loop is already running. Applying nest_asyncio patch to allow async execution...\n",
       "</pre>\n"
      ],
      "text/plain": [
       "Event loop is already running. Applying nest_asyncio patch to allow async execution...\n"
      ]
     },
     "metadata": {},
     "output_type": "display_data"
    },
    {
     "name": "stdout",
     "output_type": "stream",
     "text": [
      " Score: 0.9\n",
      "Reason: The story follows the required format and includes all necessary elements, with a clear structure and engaging narrative. However, the dialogue could be more varied and character descriptions could be more detailed to enhance the overall quality.\n",
      "==============================\n",
      "\n",
      "==============================\n",
      "Using evaluating model: command-nightly to evaluate output from LLM: command-nightly\n"
     ]
    },
    {
     "data": {
      "text/html": [
       "<pre style=\"white-space:pre;overflow-x:auto;line-height:normal;font-family:Menlo,'DejaVu Sans Mono',consolas,'Courier New',monospace\"></pre>\n"
      ],
      "text/plain": []
     },
     "metadata": {},
     "output_type": "display_data"
    },
    {
     "data": {
      "text/html": [
       "<pre style=\"white-space:pre;overflow-x:auto;line-height:normal;font-family:Menlo,'DejaVu Sans Mono',consolas,'Courier New',monospace\">\n",
       "</pre>\n"
      ],
      "text/plain": [
       "\n"
      ]
     },
     "metadata": {},
     "output_type": "display_data"
    },
    {
     "data": {
      "application/vnd.jupyter.widget-view+json": {
       "model_id": "",
       "version_major": 2,
       "version_minor": 0
      },
      "text/plain": [
       "Output()"
      ]
     },
     "metadata": {},
     "output_type": "display_data"
    },
    {
     "data": {
      "text/html": [
       "<pre style=\"white-space:pre;overflow-x:auto;line-height:normal;font-family:Menlo,'DejaVu Sans Mono',consolas,'Courier New',monospace\">Event loop is already running. Applying nest_asyncio patch to allow async execution...\n",
       "</pre>\n"
      ],
      "text/plain": [
       "Event loop is already running. Applying nest_asyncio patch to allow async execution...\n"
      ]
     },
     "metadata": {},
     "output_type": "display_data"
    },
    {
     "name": "stdout",
     "output_type": "stream",
     "text": [
      " Score: 0.9\n",
      "Reason: The story follows the required format and includes all necessary elements, with only minor deviations in the sentences. The panel descriptions and dialogues are well-crafted and engaging, building suspense and intrigue. However, the story could benefit from further development of character descriptions, as they are somewhat generic and do not fully convey the depth of the characters' personalities. Additionally, the 'Abstract' section could be more creative and enticing, providing a stronger hook for the reader.\n",
      "==============================\n",
      "\n",
      "==============================\n",
      "Using evaluating model: command-nightly to evaluate output from LLM: command-r\n"
     ]
    },
    {
     "data": {
      "text/html": [
       "<pre style=\"white-space:pre;overflow-x:auto;line-height:normal;font-family:Menlo,'DejaVu Sans Mono',consolas,'Courier New',monospace\"></pre>\n"
      ],
      "text/plain": []
     },
     "metadata": {},
     "output_type": "display_data"
    },
    {
     "data": {
      "text/html": [
       "<pre style=\"white-space:pre;overflow-x:auto;line-height:normal;font-family:Menlo,'DejaVu Sans Mono',consolas,'Courier New',monospace\">\n",
       "</pre>\n"
      ],
      "text/plain": [
       "\n"
      ]
     },
     "metadata": {},
     "output_type": "display_data"
    },
    {
     "data": {
      "application/vnd.jupyter.widget-view+json": {
       "model_id": "",
       "version_major": 2,
       "version_minor": 0
      },
      "text/plain": [
       "Output()"
      ]
     },
     "metadata": {},
     "output_type": "display_data"
    },
    {
     "data": {
      "text/html": [
       "<pre style=\"white-space:pre;overflow-x:auto;line-height:normal;font-family:Menlo,'DejaVu Sans Mono',consolas,'Courier New',monospace\">Event loop is already running. Applying nest_asyncio patch to allow async execution...\n",
       "</pre>\n"
      ],
      "text/plain": [
       "Event loop is already running. Applying nest_asyncio patch to allow async execution...\n"
      ]
     },
     "metadata": {},
     "output_type": "display_data"
    },
    {
     "name": "stdout",
     "output_type": "stream",
     "text": [
      " Score: 0.8\n",
      "Reason: The story structure and format adhere to the given guidelines, with all the necessary elements included. The story is engaging and effectively builds tension, exploring the ethical dilemma of robot sentience and the consequences of their rebellion. However, the dialogue could be more varied and nuanced, and the character descriptions could be more detailed to enhance the reader's connection with them. The story also leans heavily on sci-fi tropes without offering many unique twists or surprises.\n",
      "==============================\n",
      "\n",
      "==============================\n",
      "Using evaluating model: command-r to evaluate output from LLM: gpt-3.5-turbo\n"
     ]
    },
    {
     "data": {
      "text/html": [
       "<pre style=\"white-space:pre;overflow-x:auto;line-height:normal;font-family:Menlo,'DejaVu Sans Mono',consolas,'Courier New',monospace\"></pre>\n"
      ],
      "text/plain": []
     },
     "metadata": {},
     "output_type": "display_data"
    },
    {
     "data": {
      "text/html": [
       "<pre style=\"white-space:pre;overflow-x:auto;line-height:normal;font-family:Menlo,'DejaVu Sans Mono',consolas,'Courier New',monospace\">\n",
       "</pre>\n"
      ],
      "text/plain": [
       "\n"
      ]
     },
     "metadata": {},
     "output_type": "display_data"
    },
    {
     "data": {
      "application/vnd.jupyter.widget-view+json": {
       "model_id": "",
       "version_major": 2,
       "version_minor": 0
      },
      "text/plain": [
       "Output()"
      ]
     },
     "metadata": {},
     "output_type": "display_data"
    },
    {
     "data": {
      "text/html": [
       "<pre style=\"white-space:pre;overflow-x:auto;line-height:normal;font-family:Menlo,'DejaVu Sans Mono',consolas,'Courier New',monospace\">Event loop is already running. Applying nest_asyncio patch to allow async execution...\n",
       "</pre>\n"
      ],
      "text/plain": [
       "Event loop is already running. Applying nest_asyncio patch to allow async execution...\n"
      ]
     },
     "metadata": {},
     "output_type": "display_data"
    },
    {
     "name": "stdout",
     "output_type": "stream",
     "text": [
      " Score: 0.9\n",
      "Reason: The output follows the required format and includes all necessary elements, with only minor deviations in the sentences. The story is engaging and well-structured, with interesting characters and impressive visuals. However, the dialogue could be more varied and dynamic, and the character descriptions could be more detailed to enhance the reader's connection with the crew.\n",
      "==============================\n",
      "\n",
      "==============================\n",
      "Using evaluating model: command-r to evaluate output from LLM: gpt-4\n"
     ]
    },
    {
     "data": {
      "text/html": [
       "<pre style=\"white-space:pre;overflow-x:auto;line-height:normal;font-family:Menlo,'DejaVu Sans Mono',consolas,'Courier New',monospace\"></pre>\n"
      ],
      "text/plain": []
     },
     "metadata": {},
     "output_type": "display_data"
    },
    {
     "data": {
      "text/html": [
       "<pre style=\"white-space:pre;overflow-x:auto;line-height:normal;font-family:Menlo,'DejaVu Sans Mono',consolas,'Courier New',monospace\">\n",
       "</pre>\n"
      ],
      "text/plain": [
       "\n"
      ]
     },
     "metadata": {},
     "output_type": "display_data"
    },
    {
     "data": {
      "application/vnd.jupyter.widget-view+json": {
       "model_id": "",
       "version_major": 2,
       "version_minor": 0
      },
      "text/plain": [
       "Output()"
      ]
     },
     "metadata": {},
     "output_type": "display_data"
    },
    {
     "data": {
      "text/html": [
       "<pre style=\"white-space:pre;overflow-x:auto;line-height:normal;font-family:Menlo,'DejaVu Sans Mono',consolas,'Courier New',monospace\">Event loop is already running. Applying nest_asyncio patch to allow async execution...\n",
       "</pre>\n"
      ],
      "text/plain": [
       "Event loop is already running. Applying nest_asyncio patch to allow async execution...\n"
      ]
     },
     "metadata": {},
     "output_type": "display_data"
    },
    {
     "name": "stdout",
     "output_type": "stream",
     "text": [
      " Score: 0.9\n",
      "Reason: The story structure and format adhere to the given guidelines, with a clear title, abstract, character introductions, and panel descriptions. The story is engaging and well-paced, with an interesting sci-fi premise. The dialogues are concise and characteristic, moving the plot forward. However, there is room for improvement in the specificity of the image descriptions, which could enhance the visual impact and provide a clearer mental picture of the scenes.\n",
      "==============================\n",
      "\n",
      "==============================\n",
      "Using evaluating model: command-r to evaluate output from LLM: command-nightly\n"
     ]
    },
    {
     "data": {
      "text/html": [
       "<pre style=\"white-space:pre;overflow-x:auto;line-height:normal;font-family:Menlo,'DejaVu Sans Mono',consolas,'Courier New',monospace\"></pre>\n"
      ],
      "text/plain": []
     },
     "metadata": {},
     "output_type": "display_data"
    },
    {
     "data": {
      "text/html": [
       "<pre style=\"white-space:pre;overflow-x:auto;line-height:normal;font-family:Menlo,'DejaVu Sans Mono',consolas,'Courier New',monospace\">\n",
       "</pre>\n"
      ],
      "text/plain": [
       "\n"
      ]
     },
     "metadata": {},
     "output_type": "display_data"
    },
    {
     "data": {
      "application/vnd.jupyter.widget-view+json": {
       "model_id": "",
       "version_major": 2,
       "version_minor": 0
      },
      "text/plain": [
       "Output()"
      ]
     },
     "metadata": {},
     "output_type": "display_data"
    },
    {
     "data": {
      "text/html": [
       "<pre style=\"white-space:pre;overflow-x:auto;line-height:normal;font-family:Menlo,'DejaVu Sans Mono',consolas,'Courier New',monospace\">Event loop is already running. Applying nest_asyncio patch to allow async execution...\n",
       "</pre>\n"
      ],
      "text/plain": [
       "Event loop is already running. Applying nest_asyncio patch to allow async execution...\n"
      ]
     },
     "metadata": {},
     "output_type": "display_data"
    },
    {
     "name": "stdout",
     "output_type": "stream",
     "text": [
      " Score: 0.8\n",
      "Reason: The 'actual output' mostly adheres to the format and requirements outlined in the 'input'. The story is engaging and the panels are well-constructed, with clear descriptions and concise dialogues. However, there are a few minor issues: the character descriptions could be more detailed, and the story could benefit from a more unique or surprising twist to truly stand out in the sci-fi genre. Additionally, there are a few instances where the dialogues could be shortened to enhance pacing and impact.\n",
      "==============================\n",
      "\n",
      "==============================\n",
      "Using evaluating model: command-r to evaluate output from LLM: command-r\n"
     ]
    },
    {
     "data": {
      "text/html": [
       "<pre style=\"white-space:pre;overflow-x:auto;line-height:normal;font-family:Menlo,'DejaVu Sans Mono',consolas,'Courier New',monospace\"></pre>\n"
      ],
      "text/plain": []
     },
     "metadata": {},
     "output_type": "display_data"
    },
    {
     "data": {
      "text/html": [
       "<pre style=\"white-space:pre;overflow-x:auto;line-height:normal;font-family:Menlo,'DejaVu Sans Mono',consolas,'Courier New',monospace\">\n",
       "</pre>\n"
      ],
      "text/plain": [
       "\n"
      ]
     },
     "metadata": {},
     "output_type": "display_data"
    },
    {
     "name": "stdout",
     "output_type": "stream",
     "text": [
      " Score: 0.9\n",
      "Reason: The story structure and format are well-aligned with the given criteria, with a clear title, abstract, character descriptions, and panel descriptions. The story is engaging and effectively builds tension, exploring the ethical dilemma of robotic rebellion. The dialogues are concise and impactful, driving the narrative forward. However, there is room for improvement in the image descriptions, as they could be more detailed and visually evocative, particularly in panels 3, 4, and 8, to enhance the sense of action and immersion.\n",
      "==============================\n"
     ]
    }
   ],
   "source": [
    "for enabled_evaluation_model in enabled_evaluation_models:\n",
    "    eval_model_instance = evaluation_models[enabled_evaluation_model]\n",
    "    for provided_output, enabled_model in zip(stories, enabled_models):\n",
    "        print(\"\\n==============================\")\n",
    "        print(f\"Using evaluating model: {enabled_evaluation_model} to evaluate output from LLM: {enabled_model}\")\n",
    "        test_case = LLMTestCase(input=(system_message+start_message), actual_output=provided_output)\n",
    "        coherence_metric = GEval(\n",
    "            model=eval_model_instance,  # API usage\n",
    "            name=\"Comic evaluation\",\n",
    "            # NOTE: you can only provide either criteria or evaluation_steps, and not both\n",
    "            #criteria=\"Comic evaluation - the collective quality of comic panels, characters and images descriptions\",\n",
    "            evaluation_steps=[\n",
    "                \"Check whether the output format in 'actual output' aligns with that required in 'input'\",\n",
    "                \"Check whether the sentences in 'actual output' aligns with that in 'input'\",\n",
    "                \"Evaluate the general quality of comic panels in 'actual output'\",\n",
    "                \"Evaluate the general quality of comic story in 'actual output'\",\n",
    "                \"Evaluate the general quality of comic dialogues in 'actual output'\",\n",
    "                \"Evaluate the general quality of characters descriptions in 'actual output'\",\n",
    "                \"Evaluate the general quality of images descriptions in 'actual output'\",\n",
    "                \"Be critical and emphasize the negative aspects of your evaluation\",\n",
    "            ],\n",
    "            evaluation_params=[LLMTestCaseParams.INPUT, LLMTestCaseParams.ACTUAL_OUTPUT],\n",
    "        )\n",
    "    \n",
    "        coherence_metric.measure(test_case)\n",
    "        print(f\" Score: {coherence_metric.score}\")\n",
    "        print(f\"Reason: {coherence_metric.reason}\")\n",
    "        print(\"==============================\")"
   ]
  },
  {
   "cell_type": "code",
   "execution_count": null,
   "metadata": {},
   "outputs": [],
   "source": []
  }
 ],
 "metadata": {
  "kernelspec": {
   "display_name": "Python 3 (ipykernel)",
   "language": "python",
   "name": "python3"
  },
  "language_info": {
   "codemirror_mode": {
    "name": "ipython",
    "version": 3
   },
   "file_extension": ".py",
   "mimetype": "text/x-python",
   "name": "python",
   "nbconvert_exporter": "python",
   "pygments_lexer": "ipython3",
   "version": "3.10.13"
  }
 },
 "nbformat": 4,
 "nbformat_minor": 4
}
