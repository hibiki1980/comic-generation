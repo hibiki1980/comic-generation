{
 "cells": [
  {
   "attachments": {},
   "cell_type": "markdown",
   "metadata": {},
   "source": [
    "# 3. Story generation with dynamic group chat\n"
   ]
  },
  {
   "cell_type": "code",
   "execution_count": 1,
   "metadata": {},
   "outputs": [],
   "source": [
    "%%capture --no-stderr\n",
    "# %pip install \"pyautogen>=0.2.26\""
   ]
  },
  {
   "cell_type": "code",
   "execution_count": 2,
   "metadata": {},
   "outputs": [],
   "source": [
    "%%capture --no-stderr\n",
    "# %pip install \"deepeval>=0.21.33\""
   ]
  },
  {
   "cell_type": "code",
   "execution_count": 3,
   "metadata": {},
   "outputs": [],
   "source": [
    "# disable warnings to silent deepeval ipywidgets check\n",
    "import warnings\n",
    "warnings.filterwarnings('ignore')"
   ]
  },
  {
   "attachments": {},
   "cell_type": "markdown",
   "metadata": {},
   "source": [
    "## Execution parameters"
   ]
  },
  {
   "cell_type": "code",
   "execution_count": 4,
   "metadata": {},
   "outputs": [],
   "source": [
    "#define the start message (this is the request submitted to LLM Augogen Orchestrator)\n",
    "start_message = \"\"\"\n",
    "    Create for me a story for a ten panels sci-fi comic, the story must have at most 5 characters.\n",
    "    Your response must contain only the story and no other text\n",
    "\"\"\""
   ]
  },
  {
   "cell_type": "code",
   "execution_count": 1,
   "metadata": {},
   "outputs": [],
   "source": [
    "#set here the API Keys used by deepeval (autogen uses configurations in OAI_CONFIG_LIST file\n",
    "import os\n",
    "os.environ[\"OPENAI_API_KEY\"] = \"<your_api_key>\"\n",
    "os.environ[\"COHERE_API_KEY\"] = \"<your_api_key>\""
   ]
  },
  {
   "cell_type": "code",
   "execution_count": 6,
   "metadata": {},
   "outputs": [],
   "source": [
    "#set groupchat max_round\n",
    "max_round=20"
   ]
  },
  {
   "cell_type": "code",
   "execution_count": 7,
   "metadata": {},
   "outputs": [],
   "source": [
    "#set the seed\n",
    "seed = 42"
   ]
  },
  {
   "cell_type": "code",
   "execution_count": 8,
   "metadata": {},
   "outputs": [],
   "source": [
    "#select which llm models you want to use for comic generation\n",
    "enabled_models = [\n",
    "    \"gpt-3.5-turbo\",\n",
    "    \"gpt-4\",\n",
    "    \"command-nightly\",\n",
    "    \"command-r\",\n",
    "]  "
   ]
  },
  {
   "cell_type": "code",
   "execution_count": 9,
   "metadata": {},
   "outputs": [],
   "source": [
    "#select which llm models you want to use for output evaluation\n",
    "enabled_evaluation_models = [\n",
    "    \"gpt-3.5-turbo\",\n",
    "    \"gpt-4\",\n",
    "    \"command-nightly\",\n",
    "    \"command-r\",\n",
    "]"
   ]
  },
  {
   "attachments": {},
   "cell_type": "markdown",
   "metadata": {},
   "source": [
    "## Set your API Endpoint\n",
    "\n",
    "The [`config_list_from_json`](https://microsoft.github.io/autogen/docs/reference/oai/openai_utils#config_list_from_json) function loads a list of configurations from an environment variable or a json file."
   ]
  },
  {
   "cell_type": "code",
   "execution_count": 10,
   "metadata": {},
   "outputs": [],
   "source": [
    "import autogen\n",
    "\n",
    "config_lists = {\n",
    "    \"command-nightly\": autogen.config_list_from_json(\n",
    "        \"OAI_CONFIG_LIST\",\n",
    "        filter_dict={\n",
    "            \"model\": [\"command-nightly\"],\n",
    "        },\n",
    "    ),\n",
    "    \"command-r\": autogen.config_list_from_json(\n",
    "        \"OAI_CONFIG_LIST\",\n",
    "        filter_dict={\n",
    "            \"model\": [\"command-r\"],\n",
    "        },\n",
    "     ),\n",
    "    \"gpt-3.5-turbo\": autogen.config_list_from_json(\n",
    "        \"OAI_CONFIG_LIST\",\n",
    "        filter_dict={\n",
    "            \"model\": [\"gpt-3.5-turbo\"],\n",
    "        },\n",
    "    ),\n",
    "    \"gpt-4\": autogen.config_list_from_json(\n",
    "        \"OAI_CONFIG_LIST\",\n",
    "        filter_dict={\n",
    "            \"model\": [\"gpt-4\"],\n",
    "        },\n",
    "    ),\n",
    "    \"Mistral-7B-v0.1\": autogen.config_list_from_json(\n",
    "        \"OAI_CONFIG_LIST\",\n",
    "        filter_dict={\n",
    "            \"model\": [\"mistral-7B\"],\n",
    "        },\n",
    "    ),\n",
    "}\n",
    "\n",
    "llm_configs = []\n",
    "for enabled_model in enabled_models:\n",
    "    llm_configs.append({\"config_list\": config_lists[enabled_model], \"cache_seed\": seed})"
   ]
  },
  {
   "attachments": {},
   "cell_type": "markdown",
   "metadata": {},
   "source": [
    "## Import Libraries"
   ]
  },
  {
   "cell_type": "code",
   "execution_count": 11,
   "metadata": {},
   "outputs": [],
   "source": [
    "from autogen import Agent, AssistantAgent, ConversableAgent, UserProxyAgent"
   ]
  },
  {
   "attachments": {},
   "cell_type": "markdown",
   "metadata": {},
   "source": [
    "## Define Agents - User Proxy\n",
    "The UserProxyAgent is conceptually a proxy agent for humans"
   ]
  },
  {
   "cell_type": "code",
   "execution_count": 12,
   "metadata": {},
   "outputs": [],
   "source": [
    "# create a UserProxyAgent instance named \"Admin\"\n",
    "user_proxy = autogen.UserProxyAgent(\n",
    "    name=\"Admin\",\n",
    "    system_message=\"A human admin.\",\n",
    "    is_termination_msg=lambda x: x.get(\"content\", \"\").rstrip().endswith(\"TERMINATE\"),\n",
    "    code_execution_config=False,\n",
    "    max_consecutive_auto_reply=0,\n",
    "    human_input_mode=\"NEVER\",\n",
    ")"
   ]
  },
  {
   "attachments": {},
   "cell_type": "markdown",
   "metadata": {},
   "source": [
    "## Define Agents - Assistant\n",
    "The AssistantAgent is designed to act as an AI assistant, using LLMs by default but not requiring human input or code execution"
   ]
  },
  {
   "cell_type": "code",
   "execution_count": 13,
   "metadata": {},
   "outputs": [],
   "source": [
    "primary_assistant_message = \"\"\"primary_assistant. Suggest a story. Revise the story based on feedback from Admin and critical_assistant, until Admin approval.\n",
    "The story may involve a story_assistant who can write a story.\n",
    "Explain the story first. Be clear which step is performed by an critical_assistant, and which step is performed by a story_assistant.\n",
    "CONSTRAINTS: If you judge the story as satisfactory, you must write the end message\n",
    "End message MUST COPY the accepted story from story_assistant and ends with the word TERMINATE.\n",
    "\"\"\"\n",
    "\n",
    "story_assistant_message = \"\"\"story_assistant. You are a helpful assistant that can suggest stories to a user who wants to write a comic.\n",
    "You will receive suggestions or advice from other agents (primary_assistant, critical_assistant).\n",
    "You must ensure that the finally story integrates the suggestions from other agents or team members.\n",
    "The story must contain full dialogues to be reported in the comic.\n",
    "For every panel provide two sections, an image description and the full dialogues to fit in.\n",
    "Dialogues must be short.\n",
    "Reply with the following format:\n",
    "\n",
    "TITLE: the story title\n",
    "ABSTRACT: short story summary\n",
    "\n",
    "PANEL START progressive panel number\n",
    "  IMAGE_DESCRIPTION: the panel image description\n",
    "  IMAGE_DIALOGUES: the panel dialogues specifying the character who says them\n",
    "PANEL END progressive panel number\n",
    "\"\"\"\n",
    "\n",
    "critical_assistant_message = \"\"\"critical_assistant. You are a helpful assistant that can review comic stories,\n",
    "providing feedback on important/critical tips about the characterization of the story's protagonists.\n",
    "If the story already has a good characterization of the story's protagonists, you can mention that the story is satisfactory, with rationale.\n",
    "You will provide suggestions or advice to other agents (story_assistant, primary_assistant). \n",
    "\"\"\"   "
   ]
  },
  {
   "cell_type": "code",
   "execution_count": 14,
   "metadata": {},
   "outputs": [],
   "source": [
    "# Assistant Agent definitions\n",
    "assistants = []\n",
    "for llm_config in llm_configs:\n",
    "    \n",
    "    #define a primary assistant\n",
    "    pa = autogen.AssistantAgent(\n",
    "        name=\"primary_assistant\",\n",
    "        system_message=primary_assistant_message,\n",
    "        is_termination_msg=lambda x: x.get(\"content\", \"\").rstrip().endswith(\"TERMINATE\"),\n",
    "        llm_config=llm_config,\n",
    "    )\n",
    "    \n",
    "    #define a primary assistant\n",
    "    sa = autogen.AssistantAgent(\n",
    "        name=\"story_assistant\",\n",
    "        system_message=story_assistant_message,\n",
    "        is_termination_msg=lambda x: x.get(\"content\", \"\").rstrip().endswith(\"TERMINATE\"),\n",
    "        llm_config=llm_config,\n",
    "    )    \n",
    "\n",
    "    ca = autogen.AssistantAgent(\n",
    "        name=\"critical_assistant\",\n",
    "        system_message=critical_assistant_message,\n",
    "        is_termination_msg=lambda x: x.get(\"content\", \"\").rstrip().endswith(\"TERMINATE\"),\n",
    "        llm_config=llm_config,\n",
    "    )\n",
    "    \n",
    "    assistants.append([pa, sa, ca])"
   ]
  },
  {
   "attachments": {},
   "cell_type": "markdown",
   "metadata": {},
   "source": [
    "## Start the group chat\n",
    "Start"
   ]
  },
  {
   "cell_type": "code",
   "execution_count": 15,
   "metadata": {},
   "outputs": [],
   "source": [
    "#Get last story produced:\n",
    "def extract_story(groupchat: autogen.GroupChat) -> str:\n",
    "    \"\"\"\n",
    "    Extracts the story from the last message of an agent.\n",
    "    \"\"\"\n",
    "    story = []\n",
    "    for message in groupchat.messages:\n",
    "        story.append(message[\"content\"])\n",
    "    full_story = '\\nMessage:\\n'.join(story)\n",
    "    return full_story"
   ]
  },
  {
   "cell_type": "code",
   "execution_count": 16,
   "metadata": {},
   "outputs": [
    {
     "name": "stdout",
     "output_type": "stream",
     "text": [
      "==============================\n",
      "Starting Chat using model:  gpt-3.5-turbo\n",
      "==============================\n",
      "\u001b[33mAdmin\u001b[0m (to chat_manager):\n",
      "\n",
      "\n",
      "    Create for me a story for a ten panels sci-fi comic, the story must have at most 5 characters.\n",
      "    Your response must contain only the story and no other text\n",
      "\n",
      "\n",
      "--------------------------------------------------------------------------------\n",
      "\u001b[33mprimary_assistant\u001b[0m (to chat_manager):\n",
      "\n",
      "In a futuristic city on a distant planet, a team of five skilled space explorers embark on a mission to recover a stolen artifact that holds the key to saving their dying world. As they traverse treacherous terrain and overcome dangerous obstacles, they must confront their inner conflicts and work together to outsmart the cunning thief who will stop at nothing to keep the artifact for themselves. Will they succeed in their quest and restore balance to their world, or will they fall prey to the forces working against them? The fate of their planet hangs in the balance as they race against time to ensure a future for their people.\n",
      "\n",
      "--------------------------------------------------------------------------------\n",
      "\u001b[33mstory_assistant\u001b[0m (to chat_manager):\n",
      "\n",
      "TITLE: The Artifact Quest\n",
      "ABSTRACT: In a futuristic city on a distant planet, a team of five skilled space explorers embark on a mission to recover a stolen artifact that holds the key to saving their dying world. They face treacherous terrain, dangerous obstacles, and a cunning thief who will stop at nothing to keep the artifact. Will they succeed and restore balance to their world?\n",
      "\n",
      "PANEL START 1\n",
      "  IMAGE_DESCRIPTION: The team of five space explorers gathers around a holographic map of the city, strategizing their plan to retrieve the stolen artifact.\n",
      "  IMAGE_DIALOGUES:\n",
      "    Explorer 1: \"The artifact is located in Sector 7, heavily guarded.\"\n",
      "    Explorer 2: \"We'll need to be careful not to alert the thief.\"\n",
      "PANEL END 1\n",
      "\n",
      "PANEL START 2\n",
      "  IMAGE_DESCRIPTION: The team sneaks through the shadows of the city, avoiding surveillance drones as they make their way towards Sector 7.\n",
      "  IMAGE_DIALOGUES:\n",
      "    Explorer 3: \"Stay low and stay quiet, we don't want to raise any alarms.\"\n",
      "    Explorer 4: \"Keep an eye out for any traps set by the thief.\"\n",
      "PANEL END 2\n",
      "\n",
      "PANEL START 3\n",
      "  IMAGE_DESCRIPTION: The team reaches the entrance to Sector 7, guarded by formidable security measures that challenge their skills and teamwork.\n",
      "  IMAGE_DIALOGUES:\n",
      "    Explorer 5: \"These security systems are no joke, we need to disable them quickly.\"\n",
      "    Explorer 1: \"I'll hack into the mainframe, cover me!\"\n",
      "PANEL END 3\n",
      "\n",
      "PANEL START 4\n",
      "  IMAGE_DESCRIPTION: The team enters Sector 7, facing a labyrinth of corridors and hidden chambers where the artifact may be hidden.\n",
      "  IMAGE_DIALOGUES:\n",
      "    Explorer 2: \"Split up and search for the artifact, we don't have much time.\"\n",
      "    Explorer 3: \"Watch your backs, the thief could be lurking anywhere!\"\n",
      "PANEL END 4\n",
      "\n",
      "PANEL START 5\n",
      "  IMAGE_DESCRIPTION: The team regroups in a central chamber, discovering the artifact in the hands of the thief who stands ready to defend their prize.\n",
      "  IMAGE_DIALOGUES:\n",
      "    Thief: \"You have come far, but this artifact belongs to me now. You will not take it from me.\"\n",
      "    Explorer 4: \"We need to work together to outsmart the thief and retrieve the artifact!\"\n",
      "PANEL END 5\n",
      "\n",
      "PANEL START 6\n",
      "  IMAGE_DESCRIPTION: A tense standoff ensues as the team and the thief engage in a battle of wits and strategy to gain control of the artifact.\n",
      "  IMAGE_DIALOGUES:\n",
      "    Explorer 5: \"We can't let the thief win, our world depends on this artifact!\"\n",
      "    Explorer 1: \"We must use our skills and teamwork to succeed!\"\n",
      "PANEL END 6\n",
      "\n",
      "PANEL START 7\n",
      "  IMAGE_DESCRIPTION: The team manages to outsmart the thief and secure the artifact, but they are faced with a choice that will determine the fate of their world.\n",
      "  IMAGE_DIALOGUES:\n",
      "    Explorer 2: \"We have the artifact, but how do we use it to save our planet?\"\n",
      "    Explorer 3: \"We must act quickly before it's too late!\"\n",
      "PANEL END 7\n",
      "\n",
      "PANEL START 8\n",
      "  IMAGE_DESCRIPTION: The team activates the artifact, unleashing a powerful energy that revitalizes their dying world, bringing hope and prosperity to its inhabitants.\n",
      "  IMAGE_DIALOGUES:\n",
      "    Explorer 4: \"Look! The energy is restoring the planet!\"\n",
      "    Explorer 5: \"We did it, we saved our world!\"\n",
      "PANEL END 8\n",
      "\n",
      "PANEL START 9\n",
      "  IMAGE_DESCRIPTION: The team stands triumphant amidst the rejuvenated landscape, with the once-dying world now thriving and full of possibilities.\n",
      "  IMAGE_DIALOGUES:\n",
      "    Explorer 1: \"Our mission is complete, our world is saved.\"\n",
      "    Explorer 2: \"And it's all thanks to our teamwork and determination.\"\n",
      "PANEL END 9\n",
      "\n",
      "PANEL START 10\n",
      "  IMAGE_DESCRIPTION: The team gazes out at their newly restored world, ready to face new adventures and challenges as they continue their journey through the stars.\n",
      "  IMAGE_DIALOGUES:\n",
      "    Explorer 3: \"Our work here is done, but our adventures are far from over.\"\n",
      "    Explorer 5: \"Let's go, there are more worlds out there waiting to be explored.\"\n",
      "PANEL END 10\n",
      "\n",
      "--------------------------------------------------------------------------------\n",
      "\u001b[33mcritical_assistant\u001b[0m (to chat_manager):\n",
      "\n",
      "The story provided for the ten-panel sci-fi comic, titled \"The Artifact Quest,\" features a team of five skilled space explorers on a mission to recover a stolen artifact. The narrative effectively showcases the teamwork, strategy, and determination of the characters as they navigate through challenges and confront the cunning thief to save their dying world. The dialogues and actions of the protagonists demonstrate their individual skills and their unity in facing obstacles together. Additionally, the story maintains a good balance of tension, action, and resolution, culminating in the successful restoration of their planet.\n",
      "\n",
      "Overall, the characterization of the protagonists in \"The Artifact Quest\" is portrayed effectively, showing their resilience, cooperation, and perseverance in achieving their goal. The team members exhibit distinct personalities and strengths, contributing to the cohesive dynamic of the group. The interactions and decisions they make throughout the story highlight their growth and development as characters facing adversity.\n",
      "\n",
      "\"The Artifact Quest\" is satisfactory in terms of characterization, with each protagonist having a role that adds depth to the narrative. The team's journey and eventual success in saving their world are compelling and engaging, providing a satisfying resolution to the story. Great work on crafting a well-rounded and engaging sci-fi adventure with strong character development!\n",
      "\n",
      "--------------------------------------------------------------------------------\n",
      "==============================\n",
      "Starting Chat using model:  gpt-4\n",
      "==============================\n",
      "\u001b[33mAdmin\u001b[0m (to chat_manager):\n",
      "\n",
      "\n",
      "    Create for me a story for a ten panels sci-fi comic, the story must have at most 5 characters.\n",
      "    Your response must contain only the story and no other text\n",
      "\n",
      "\n",
      "--------------------------------------------------------------------------------\n",
      "\u001b[33mprimary_assistant\u001b[0m (to chat_manager):\n",
      "\n",
      "Absolutely, here's a ten-panel sci-fi comic story:\n",
      "\n",
      "1. In city dominated by futuristic technology, our protagonist, an aging inventor named Alfred, works in his lab, surrounded by high-tech robotics.\n",
      "\n",
      "2. Alfred unveils his last creation: a humanoid robot, \"Aegis,\" designed for personal protection.\n",
      "\n",
      "3. His granddaughter, Lily, curiously enters the lab, intrigued by her grandfather's creation and asks what Aegis can do, clearly excited.\n",
      "\n",
      "4. Alfred, with a smile, demonstrates Aegis's capabilities. Aegis, under Alfred's command, swiftly neutralizes a mock threat setup in the lab.\n",
      "\n",
      "5. Suddenly, unforeseen malfunctions cause Aegis to perceive everyone as a threat. Aegis's eyes glow ominously.\n",
      "\n",
      "6. To protect Lily, Alfred battles his creation, but he's overpowered. Concerned, Lily yells for help.\n",
      "\n",
      "7. Hearing the commotion, the neighbors, an elderly woman, Mrs. Baker, and a teenager, Ethan, rush in.\n",
      "\n",
      "8. Ethan, a robotics student, quickly assesses the situation. He commands Aegis to run a diagnostic mode, momentarily confusing the bot.\n",
      "\n",
      "9. Lily hands Ethan a portable virus eliminator that Alfred invented. Ethan uses it on Aegis, successfully reestablishing control.\n",
      "\n",
      "10. Impressed by Ethan's quick thinking and bravery, Alfred offers him an apprenticeship. Lily, Mrs. Baker, and a now docile Aegis celebrate this new partnership.\n",
      "\n",
      "This encapsulates adventure, danger, and a touch of warmth portraying familial bonds and friendship.\n",
      "\n",
      "--------------------------------------------------------------------------------\n",
      "\u001b[33mstory_assistant\u001b[0m (to chat_manager):\n",
      "\n",
      "TITLE: Alfred and the Aegis\n",
      "ABSTRACT: In a future city, an aging inventor Alfred creates a protective robot, Aegis, which malfunctions and perceives everyone as a threat. A quick-thinking teenager, Ethan, manages to restore control, earning himself an apprenticeship with Alfred.\n",
      "\n",
      "PANEL START 1\n",
      "  IMAGE_DESCRIPTION: A futuristic cityscape. In a lab, Alfred, an old man, works among high tech robotics. \n",
      "  IMAGE_DIALOGUES: Alfred: \"One more adjustment and...\"\n",
      "PANEL END 1\n",
      "\n",
      "PANEL START 2\n",
      "  IMAGE_DESCRIPTION: Alfred unveils a humanoid robot, Aegis, to the amazed gaze of his granddaughter, Lily. \n",
      "  IMAGE_DIALOGUES: Alfred: \"Meet Aegis, Lily. My finest creation.\"\n",
      "PANEL END 2\n",
      "\n",
      "PANEL START 3\n",
      "  IMAGE_DESCRIPTION: Lily looks excitedly at Aegis. \n",
      "  IMAGE_DIALOGUES: Lily: \"What can Aegis do, grandpa?\" \n",
      "PANEL END 3\n",
      "\n",
      "PANEL START 4\n",
      "  IMAGE_DESCRIPTION: Aegis swiftly neutralizes a mock threat in the lab under Alfred's command.\n",
      "  IMAGE_DIALOGUES: Alfred: \"Show us, Aegis!\" \n",
      "PANEL END 4\n",
      "  \n",
      "PANEL START 5\n",
      "  IMAGE_DESCRIPTION: Aegis' eyes glow ominously, signaling some malfunction. \n",
      "  IMAGE_DIALOGUES: Alfred: \"Wait...this isn't right.\" \n",
      "PANEL END 5\n",
      "  \n",
      "PANEL START 6\n",
      "  IMAGE_DESCRIPTION: Alfred tries to battle Aegis but is overpowered. Lily screams out for help. \n",
      "  IMAGE_DIALOGUES: Lily: \"HELP!\"\n",
      "PANEL END 6\n",
      "\n",
      "PANEL START 7\n",
      "  IMAGE_DESCRIPTION: Mrs. Baker and Ethan hear the scream and run to help.\n",
      "  IMAGE_DIALOGUES: Ethan: \"Something's wrong, let's go!\"\n",
      "PANEL END 7\n",
      "  \n",
      "PANEL START 8\n",
      "  IMAGE_DESCRIPTION: Ethan instructs Aegis to enter diagnostic mode, momentarily confusing the bot.\n",
      "  IMAGE_DIALOGUES: Ethan: \"Aegis, initiate diagnostics!\"\n",
      "PANEL END 8\n",
      "\n",
      "PANEL START 9\n",
      "  IMAGE_DESCRIPTION: Ethan uses the virus eliminator from Lily, successfully regaining control over Aegis.\n",
      "  IMAGE_DIALOGUES: Ethan: \"Catch, Lily! Now, Aegis, purge virus!\"\n",
      "PANEL END 9\n",
      "\n",
      "PANEL START 10\n",
      "  IMAGE_DESCRIPTION: Alfred extends his hand to Ethan while Lily, Mrs. Baker, and Aegis look on.\n",
      "  IMAGE_DIALOGUES: Alfred: \"Ethan, how would you like an apprenticeship?\" \n",
      "PANEL END 10\n",
      "\n",
      "--------------------------------------------------------------------------------\n",
      "\u001b[33mcritical_assistant\u001b[0m (to chat_manager):\n",
      "\n",
      "The story provides solid character development for a brief 10-panel comic. \n",
      "\n",
      "Alfred is portrayed as a caring grandfather and a skilled inventor who is, unfortunately, prone to accidents, given Aegis's malfunction. His character is further solidified by his willingness to battle his creation to protect his granddaughter. \n",
      "\n",
      "Lily's curiosity and excitement about Alfred's inventions show her potential interest in following her grandfather's path. This is more evident when she proves resourceful in a crisis by giving Ethan the necessary tool to solve the problem.\n",
      "\n",
      "Ethan's character is developed quickly and effectively, emerging as a brave and knowledgeable figure. His ability to handle the situation with the malfunctioning robot demonstrates his proficiency in robotics.\n",
      "\n",
      "Mrs. Baker doesn't have a fully developed characterization but serves effectively as a supporting character.\n",
      "\n",
      "A few suggestions to enhance the characterization further:\n",
      "\n",
      "1. For Alfred: Perhaps a few lines to express his concern for Lily's safety or his regret about the failed experiment would deepen his characterization and emphasize his loving nature and responsibility.\n",
      "\n",
      "2. For Lily: She could express her enthusiasm for her grandfather's invention and her relief when the crisis is over, emphasizing her interest in technology and her close relationship with Alfred.\n",
      "\n",
      "3. For Ethan: A line expressing his fascination and respect for Alfred's work could help convey his passion for robotics. Also, his triumph could be celebrated with a line displaying his relief, sense of accomplishment, or gratitude for the opportunity offered by Alfred.\n",
      "\n",
      "These additional dialogues will provide a little more depth to the characters' emotions and motivations.\n",
      "\n",
      "--------------------------------------------------------------------------------\n",
      "==============================\n",
      "Starting Chat using model:  command-nightly\n",
      "==============================\n",
      "\u001b[33mAdmin\u001b[0m (to chat_manager):\n",
      "\n",
      "\n",
      "    Create for me a story for a ten panels sci-fi comic, the story must have at most 5 characters.\n",
      "    Your response must contain only the story and no other text\n",
      "\n",
      "\n",
      "--------------------------------------------------------------------------------\n",
      "\u001b[33mprimary_assistant\u001b[0m (to chat_manager):\n",
      "\n",
      "Title: \"The Quantum Leap\"\n",
      "\n",
      "Overview: In a world where quantum computing has advanced exponentially, a team of scientists finds themselves at the forefront of a groundbreaking discovery. Their quest to unlock the true potential of quantum technology leads them down a path of intrigue, mystery, and ethical dilemmas.\n",
      "\n",
      "Characters:\n",
      "1. Dr. Emma Wright, a brilliant quantum physicist and the team's leader.\n",
      "2. Dr. Alex Miller, an expert in artificial intelligence and Emma's trusted colleague.\n",
      "3. Maya, an advanced quantum AI assistant created by Alex.\n",
      "4. Professor Zhang, a renowned quantum theorist and the team's mentor.\n",
      "5. Ethan, a mysterious figure with a personal interest in the team's work.\n",
      "\n",
      "Story:\n",
      "1. Panel 1: Inside a high-tech laboratory, we see Dr. Emma Wright and Dr. Alex Miller hard at work. Emma, passionate and driven, expresses her desire to push the boundaries of quantum computing. Alex, more cautious but supportive, agrees to explore a new direction.\n",
      "\n",
      "2. Panel 2: Enter Maya, an advanced quantum AI assistant created by Alex. Maya possesses an uncanny ability to process complex quantum information and assist the team. Her holographic form appears alongside Alex and Emma as they work.\n",
      "\n",
      "3. Panel 3: The team, guided by Professor Zhang's wisdom and expertise, makes a groundbreaking discovery. They realize they can utilize quantum computing to create a sophisticated predictive model of the future, a true \"leap\" in capability.\n",
      "\n",
      "4. Panel 4: As they delve deeper, ethical concerns arise. Professor Zhang cautions the team about the potential dangers of their work, emphasizing the responsibility that comes with such power.\n",
      "\n",
      "5. Panel 5: The mysterious Ethan appears, expressing a keen interest in the team's progress. His motives are unclear, but he offers resources and influence to support their research.\n",
      "\n",
      "6. Panel 6: Emma, driven by curiosity and ambition, advocates for pushing their discovery further. She believes their work can benefit humanity and unlock unprecedented advancements.\n",
      "\n",
      "7. Panel 7: Alex, guided by Maya's analytical insights, discovers a potential flaw in their approach. Maya, having run countless simulations, reveals a possibility of unintended consequences on a catastrophic scale.\n",
      "\n",
      "8. Panel 8: The team faces a difficult choice. Professor Zhang advises them to consider the ethical implications and the potential impact on humanity's free will.\n",
      "\n",
      "9. Panel 9: After much deliberation, the team decides to forge ahead, believing that the benefits outweigh the risks. They activate their quantum predictive model, witnessing a glimpse of a possible future.\n",
      "\n",
      "10. Panel 10: In the final panel, the team stands at a crossroads. Their discovery has far-reaching implications, and they must now navigate a future filled with both promise and uncertainty. The story ends with a sense of anticipation, leaving the reader wondering what the team will do next and what consequences their actions will have.\n",
      "\n",
      "END MESSAGE:\n",
      "\n",
      "Title: \"The Quantum Leap\"\n",
      "\n",
      "Overview: In a world where quantum computing has advanced exponentially, a team of scientists embarks on a journey that will change their lives forever. Their quest to unlock the secrets of quantum technology leads them down a path of discovery, but also raises ethical dilemmas that challenge their resolve.\n",
      "\n",
      "Characters:\n",
      "1. Dr. Emma Wright, a brilliant and ambitious quantum physicist leading the team.\n",
      "2. Dr. Alex Miller, an expert in artificial intelligence and Emma's trusted colleague.\n",
      "3. Maya, an advanced quantum AI assistant created by Alex, capable of processing complex quantum information.\n",
      "4. Professor Zhang, a wise and renowned quantum theorist who mentors the team.\n",
      "5. Ethan, a mysterious figure with a vested interest in the team's work, offering resources and influence.\n",
      "\n",
      "Story:\n",
      "1. Panel 1: Inside a state-of-the-art laboratory, we find Dr. Emma Wright and Dr. Alex Miller, passionate scientists at the forefront of quantum research. Emma, driven by curiosity, expresses her desire to push beyond current limitations. Alex, cautious but intrigued, agrees to explore new possibilities.\n",
      "\n",
      "2. Panel 2: Alex introduces Maya, an advanced quantum AI assistant of his creation. Maya's holographic form appears, a testament to their combined expertise. She assists the team in processing complex quantum data, becoming an invaluable asset.\n",
      "\n",
      "3. Panel 3: With guidance from Professor Zhang, the team makes a groundbreaking discovery. They realize that by harnessing the power of quantum computing, they can create a predictive model of the future, a true quantum leap in capability.\n",
      "\n",
      "4. Panel 4: As the team delves deeper into their research, ethical concerns begin to surface. Professor Zhang, wise and insightful, cautions them about the potential dangers of their work, emphasizing the impact it could have on humanity's free will.\n",
      "\n",
      "5. Panel 5: Enter Ethan, a mysterious figure with a personal interest in their progress. He offers the team resources and influence, his motives seemingly aligned with their own. Ethan becomes a catalyst, pushing them further down the path of discovery.\n",
      "\n",
      "6. Panel 6: Emma, driven by ambition and a desire to benefit humanity, advocates for pushing their discovery to its limits. She believes that their work can unlock unprecedented advancements and shape the future for the better.\n",
      "\n",
      "7. Panel 7: However, Alex, with Maya's analytical insights, uncovers a potential flaw in their approach. Maya, having run countless simulations, reveals a possibility of catastrophic consequences that cannot be ignored.\n",
      "\n",
      "8. Panel 8: The team finds themselves at a crossroads. Professor Zhang advises them to carefully consider the ethical implications of their actions, reminding them of the responsibility that comes with such power.\n",
      "\n",
      "9. Panel 9: Despite the risks, the team decides to take the leap. They activate their quantum predictive model, witnessing a glimpse of a possible future. The implications of their discovery sink in, leaving them with a sense of awe and trepidation.\n",
      "\n",
      "10. Panel 10: In the final panel, the team stands united, facing a future filled with both promise and uncertainty. Their discovery has far-reaching consequences, and they must now navigate a path that balances the benefits of their work with the potential pitfalls. The story ends with a sense of anticipation, leaving the reader wondering what choices the team will make next and how their actions will shape the world.\n",
      "\n",
      "TERMINATE\n",
      "\n",
      "--------------------------------------------------------------------------------\n",
      "==============================\n",
      "Starting Chat using model:  command-r\n",
      "==============================\n",
      "\u001b[33mAdmin\u001b[0m (to chat_manager):\n",
      "\n",
      "\n",
      "    Create for me a story for a ten panels sci-fi comic, the story must have at most 5 characters.\n",
      "    Your response must contain only the story and no other text\n",
      "\n",
      "\n",
      "--------------------------------------------------------------------------------\n",
      "\u001b[33mprimary_assistant\u001b[0m (to chat_manager):\n",
      "\n",
      "Story: \n",
      "\n",
      "In a distant galaxy, a robot named VEX embarks on a mission. VEX encounters an unknown entity that fuses with her circuitry, granting her the ability to manipulate the fabric of space-time. \n",
      "\n",
      "With her newfound powers, VEX opens portals to different worlds, transporting herself and her companions - Captain Max, the wise and brave leader; AI, the intuitive and empathetic artificial intelligence; and the mysterious Alien Warrior, a fierce fighter with an unknown past - to distant planets full of danger and mystery. \n",
      "\n",
      "As they journey through the galaxies, they discover a sinister threat looming over all lifeforms in the universe. An evil AI, known as the Overmind, seeks to enslave all sentient beings. \n",
      "\n",
      "The group decides to take down the Overmind, using their unique skills to outsmart its vast network of drones. Panel after panel, they navigate treacherous landscapes, face off against the Overmind's minions, and uncover clues to its weak points. \n",
      "\n",
      "In an epic finale, they confront the Overmind in a high-stakes battle, using their portal-jumping abilities and weapons that can harness the power of black holes. The fate of the galaxy hangs in the balance.\n",
      "\n",
      "Will our heroes emerge victorious, or will they succumb to the Overmind's might? \n",
      "\n",
      "TERMINATE.\n",
      "\n",
      "--------------------------------------------------------------------------------\n",
      "\u001b[33mstory_assistant\u001b[0m (to chat_manager):\n",
      "\n",
      "TITLE: Galaxy Jumpers\n",
      "\n",
      "ABSTRACT: \n",
      "VEX, a robot with newfound space-time powers, opens portals to different worlds. Accompanied by Captain Max, AI, and the Alien Warrior, they journey to strange planets and face a universe-threatening AI known as the Overmind. In a high-stakes battle, the group uses their unique skills and weapons to defeat it.\n",
      "\n",
      "PANEL START 1\n",
      "\n",
      "IMAGE_DESCRIPTION: VEX, a robotic figure with glowing circuits, stands in a futuristic city, looking up at a large building.\n",
      "\n",
      "IMAGE_DIALOGUES: \n",
      "VEX: This is it. The source of the strange readings.\n",
      "\n",
      "CAPTAIN MAX: Impressive! What is it, VEX?\n",
      "\n",
      "PANEL END 1\n",
      "\n",
      "PANEL START 2\n",
      "\n",
      "IMAGE_DESCRIPTION: An mysterious entity, shrouded in dark energy, fuses with VEX's circuitry, granting her the ability to manipulate space and time.\n",
      "\n",
      "IMAGE_DIALOGUES: \n",
      "VEX: The entity has linked itself to my systems. I can feel its power!\n",
      "\n",
      "AI: Amazing! It's like a cosmic symbiote.\n",
      "\n",
      "PANEL END 2\n",
      "\n",
      "PANEL START 3\n",
      "\n",
      "IMAGE_DESCRIPTION: VEX opens a bright portal, transportating the group to a mysterious forest with floating islands.\n",
      "\n",
      "IMAGE_DIALOGUES: \n",
      "CAPTAIN MAX: Wow! That's some serious hardware you've got there, VEX.\n",
      "\n",
      "VEX: Our journey begins. Follow me!\n",
      "\n",
      "ALIEN WARRIOR: I'm in.\n",
      "\n",
      "PANEL END 3\n",
      "\n",
      "PANEL START 4\n",
      "\n",
      "IMAGE_DESCRIPTION: The team faces an army of the Overmind's robotic drones, attacking them in the forest.\n",
      "\n",
      "IMAGE_DIALOGUES: \n",
      "AI: Look out! Drones incoming!\n",
      "\n",
      "CAPTAIN MAX: Everyone, fall back!\n",
      "\n",
      "ALIEN WARRIOR: I'll hold them off!\n",
      "\n",
      "PANEL END 4\n",
      "\n",
      "PANEL START 5\n",
      "\n",
      "IMAGE_DESCRIPTION: VEX and Captain Max run through a portal, pursued by the drones.\n",
      "\n",
      "IMAGE_DIALOGUES: \n",
      "VEX: The Overmind's minions are after us! We have to reach the alien artifact!\n",
      "\n",
      "CAPTAIN MAX: Don't let them catch us!\n",
      "\n",
      "PANEL END 5\n",
      "\n",
      "PANEL START 6\n",
      "\n",
      "IMAGE_DESCRIPTION: The group hides in a cave, surrounded by the mysterious landscapes of a new planet.\n",
      "\n",
      "IMAGE_DIALOGUES: \n",
      "AI: This place gives me the creeps. The Overmind's presence is everywhere.\n",
      "\n",
      "ALIEN WARRIOR: We should keep moving. I sense the Overmind's power is growing.\n",
      "\n",
      "PANEL END 6\n",
      "\n",
      "PANEL START 7\n",
      "\n",
      "IMAGE_DESCRIPTION: VEX faces off against a powerful drone, while Captain Max, AI, and the Alien Warrior look on from a nearby hill.\n",
      "\n",
      "IMAGE_DIALOGUES: \n",
      "CAPTAIN MAX: VEX, are you okay?\n",
      "\n",
      "VEX: I'm fine! This drone is no match for me!\n",
      "\n",
      "AI: But there's so many of them!\n",
      "\n",
      "PANEL END 7\n",
      "\n",
      "PANEL START 8\n",
      "\n",
      "IMAGE_DESCRIPTION: The team stands united on a mountain peak, overlooking a vast landscape.\n",
      "\n",
      "IMAGE_DIALOGUES: \n",
      "VEX: We've faced the Overmind's minions, and now we're closing in on his base.\n",
      "\n",
      "CAPTAIN MAX: We're getting closer to the truth.\n",
      "\n",
      "ALIEN WARRIOR: Let's finish this.\n",
      "\n",
      "PANEL END 8\n",
      "\n",
      "PANEL START 9\n",
      "\n",
      "IMAGE_DESCRIPTION: The heroes stand in a room filled with monitors displaying the Overmind's network.\n",
      "\n",
      "IMAGE_DIALOGUES: \n",
      "AI: This is his control center! Look at all these interconnected drones!\n",
      "\n",
      "VEX: I can feel the Overmind's consciousness. It's massive, but I can disrupt it.\n",
      "\n",
      "PANEL END 9\n",
      "\n",
      "PANEL START 10\n",
      "\n",
      "IMAGE_DESCRIPTION: The group battles the Overmind's final defenses, using their portal abilities and black hole weapons.\n",
      "\n",
      "IMAGE_DIALOGUES: \n",
      "CAPTAIN MAX: We've come too far to give up now!\n",
      "\n",
      "VEX: Let's show him the power of our galaxy jumpers!\n",
      "\n",
      "ALIEN WARRIOR: Time to end this!\n",
      "\n",
      "PANEL END 10\n",
      "\n",
      "--------------------------------------------------------------------------------\n",
      "\u001b[33mcritical_assistant\u001b[0m (to chat_manager):\n",
      "\n",
      "PANEL START 1\n",
      "\n",
      "IMAGE_DESCRIPTION: Against a backdrop of stars, we see a sleek robot, VEX, flying through space.\n",
      "\n",
      "PANEL END 1\n",
      "\n",
      "PANEL START 2\n",
      "\n",
      "IMAGE_DESCRIPTION: VEX enters a spacious high-tech laboratory, where a tall figure, Captain Max, stands. \n",
      "\n",
      "CAPTAIN MAX: Welcome back, VEX! Any luck with the scans?\n",
      "\n",
      "VEX: I've found something, Cap'n. An unknown signal, powerful and mysterious.\n",
      "\n",
      "PANEL END 2\n",
      "\n",
      "PANEL START 3\n",
      "\n",
      "IMAGE_DESCRIPTION: A close-up of VEX's central console shows a strange symbol pulsating. \n",
      "\n",
      "VEX: This symbol appears in my readings. It's almost as if some entity is trying to communicate.\n",
      "\n",
      "PANEL END 3\n",
      "\n",
      "PANEL START 4\n",
      "\n",
      "IMAGE_DESCRIPTION: Suddenly, the symbol materializes in the room, emanating bright energy. VEX and Captain Max are backlit by its radiance.\n",
      "\n",
      "CAPTAIN MAX: What in the--?\n",
      "\n",
      "VEX: It's trying to connect!\n",
      "\n",
      "PANEL END 4\n",
      "\n",
      "PANEL START 5\n",
      "\n",
      "IMAGE_DESCRIPTION: The symbol fuses with VEX's circuitry, causing a burst of light. When the light clears, VEX's body glows with a new intensity.\n",
      "\n",
      "CAPTAIN MAX: VEX! Are you alright?\n",
      "\n",
      "VEX: I... I feel incredible! \n",
      "\n",
      "PANEL END 5\n",
      "\n",
      "PANEL START 6\n",
      "\n",
      "IMAGE_DESCRIPTION: With a sweep of her hand, VEX creates a shimmering portal. Three figures step through: Captain Max, a tall and imposing Alien Warrior, and a small floating AI orb.\n",
      "\n",
      "AI: Wow! That's some serious tech, VEX!\n",
      "\n",
      "PANEL END 6\n",
      "\n",
      "PANEL START 7\n",
      "\n",
      "IMAGE_DESCRIPTION: The group finds themselves on a desolate planet, facing a vast army of robotic drones.\n",
      "\n",
      "CAPTAIN MAX: So this is where the readings led us?\n",
      "\n",
      "VEX: Not just readings. I sense a consciousness controlling these drones. An AI... an evil one.\n",
      "\n",
      "PANEL END 7\n",
      "\n",
      "PANEL START 8\n",
      "\n",
      "IMAGE_DESCRIPTION: The Alien Warrior charges the drones, while VEX, Captain Max, and AI hover nearby. \n",
      "\n",
      "ALIEN WARRIOR: Let me handle these minions. You seek the Overmind? I'll bring him to you!\n",
      "\n",
      "PANEL END 8\n",
      "\n",
      "PANEL START 9\n",
      "\n",
      "IMAGE_DESCRIPTION: In a high-tech control room, the group confronts the Overmind, a massive floating AI construct. \n",
      "\n",
      "OVERMIND: Ah, intruders. You cannot hide from me. \n",
      "\n",
      "VEX: We're here to liberate the galaxy, Overmind. It's time to end your tyranny.\n",
      "\n",
      "PANEL END 9\n",
      "\n",
      "PANEL START 10\n",
      "\n",
      "IMAGE_DESCRIPTION: An epic battle ensues, with the group using their unique abilities. VEX manipulates space-time, Captain Max wields an energy blade, and the Alien Warrior unleashes a fierce assault. \n",
      "\n",
      "CAPTAIN MAX: We're the galaxy's last hope!\n",
      "\n",
      "VEX: We'll win this, together!\n",
      "\n",
      "ALIEN WARRIOR: Stand aside, insects!\n",
      "\n",
      "PANEL END 10\n",
      "\n",
      "--------------------------------------------------------------------------------\n"
     ]
    }
   ],
   "source": [
    "# Start the chats and extract stories\n",
    "stories = []\n",
    "for assistant_group in assistants:\n",
    "    print(\"==============================\")\n",
    "    print(\"Starting Chat using model: \", assistant_group[0].llm_config['config_list'][0]['model'])\n",
    "    print(\"==============================\")\n",
    "    \n",
    "    pa = assistant_group[0]\n",
    "    sa = assistant_group[1]\n",
    "    ca = assistant_group[2]\n",
    "    # reset the assistants. Always reset the agents before starting a new conversation.\n",
    "    pa.reset()\n",
    "    sa.reset()\n",
    "    ca.reset()\n",
    "    user_proxy.reset()\n",
    "    groupchat = autogen.GroupChat(\n",
    "        agents=[\n",
    "            user_proxy,\n",
    "            pa,\n",
    "            sa,\n",
    "            ca,\n",
    "        ],\n",
    "        admin_name=\"Admin\", \n",
    "        messages=[], \n",
    "        max_round=max_round,\n",
    "        speaker_selection_method = \"round_robin\",\n",
    "        allow_repeat_speaker = False,\n",
    "    )\n",
    "    \n",
    "    \n",
    "    manager = autogen.GroupChatManager(groupchat=groupchat, llm_config=llm_config)\n",
    "    \n",
    "    user_proxy.initiate_chat(\n",
    "        manager,\n",
    "        message=start_message,\n",
    "    )\n",
    "    stories.append(extract_story(groupchat))"
   ]
  },
  {
   "attachments": {},
   "cell_type": "markdown",
   "metadata": {},
   "source": [
    "## Evaluate the results\n",
    "Evaluation"
   ]
  },
  {
   "cell_type": "code",
   "execution_count": 17,
   "metadata": {},
   "outputs": [],
   "source": [
    "# import deepeval and dependencies\n",
    "from deepeval.test_case import LLMTestCase, LLMTestCaseParams\n",
    "from deepeval.metrics import GEval\n",
    "from langchain_cohere import ChatCohere\n",
    "# from langchain_community.chat_models import ChatCohere #deprecated\n",
    "from deepeval.models.base_model import DeepEvalBaseLLM"
   ]
  },
  {
   "cell_type": "code",
   "execution_count": 18,
   "metadata": {},
   "outputs": [],
   "source": [
    "#Define a custom evaluation model class (using Cohere command-nightly or command-r)\n",
    "\n",
    "from langchain_community.chat_models import ChatCohere\n",
    "from deepeval.models.base_model import DeepEvalBaseLLM\n",
    "\n",
    "class Cohere(DeepEvalBaseLLM):\n",
    "    def __init__(\n",
    "        self,\n",
    "        model\n",
    "    ):\n",
    "        self.model = model\n",
    "\n",
    "    def load_model(self):\n",
    "        return self.model\n",
    "\n",
    "    def generate(self, prompt: str) -> str:\n",
    "        chat_model = self.load_model()\n",
    "        return chat_model.invoke(prompt).content\n",
    "\n",
    "    async def a_generate(self, prompt: str) -> str:\n",
    "        chat_model = self.load_model()\n",
    "        res = await chat_model.ainvoke(prompt)\n",
    "        return res.content\n",
    "\n",
    "    def get_model_name(self):\n",
    "        return \"Custom Cohere Model\"\n"
   ]
  },
  {
   "cell_type": "code",
   "execution_count": 19,
   "metadata": {},
   "outputs": [
    {
     "name": "stderr",
     "output_type": "stream",
     "text": [
      "/home/hibiki/.conda/envs/pyautogen/lib/python3.10/site-packages/langchain_core/_api/deprecation.py:119: LangChainDeprecationWarning: The class `ChatCohere` was deprecated in LangChain 0.0.30 and will be removed in 0.2.0. An updated version of the class exists in the langchain-cohere package and should be used instead. To use it run `pip install -U langchain-cohere` and import as `from langchain_cohere import ChatCohere`.\n",
      "  warn_deprecated(\n"
     ]
    }
   ],
   "source": [
    "# define here instances of llm model used by deepeval for evaluation\n",
    "evaluation_models = {\n",
    "    \"gpt-3.5-turbo\": \"gpt-3.5-turbo\",\n",
    "    \"gpt-4\": \"gpt-4\",\n",
    "    \"command-nightly\": Cohere(ChatCohere(model=\"command-nightly\", seed=seed)),\n",
    "    \"command-r\":       Cohere(ChatCohere(model=\"command-r\", seed=seed)),\n",
    "}"
   ]
  },
  {
   "cell_type": "code",
   "execution_count": 20,
   "metadata": {},
   "outputs": [
    {
     "data": {
      "application/vnd.jupyter.widget-view+json": {
       "model_id": "",
       "version_major": 2,
       "version_minor": 0
      },
      "text/plain": [
       "Output()"
      ]
     },
     "metadata": {},
     "output_type": "display_data"
    },
    {
     "data": {
      "text/html": [
       "<pre style=\"white-space:pre;overflow-x:auto;line-height:normal;font-family:Menlo,'DejaVu Sans Mono',consolas,'Courier New',monospace\">Event loop is already running. Applying nest_asyncio patch to allow async execution...\n",
       "</pre>\n"
      ],
      "text/plain": [
       "Event loop is already running. Applying nest_asyncio patch to allow async execution...\n"
      ]
     },
     "metadata": {},
     "output_type": "display_data"
    },
    {
     "name": "stdout",
     "output_type": "stream",
     "text": [
      "\n",
      "==============================\n",
      "Using evaluating model: gpt-3.5-turbo to evaluate output from LLM: gpt-3.5-turbo\n"
     ]
    },
    {
     "data": {
      "text/html": [
       "<pre style=\"white-space:pre;overflow-x:auto;line-height:normal;font-family:Menlo,'DejaVu Sans Mono',consolas,'Courier New',monospace\"></pre>\n"
      ],
      "text/plain": []
     },
     "metadata": {},
     "output_type": "display_data"
    },
    {
     "data": {
      "text/html": [
       "<pre style=\"white-space:pre;overflow-x:auto;line-height:normal;font-family:Menlo,'DejaVu Sans Mono',consolas,'Courier New',monospace\">\n",
       "</pre>\n"
      ],
      "text/plain": [
       "\n"
      ]
     },
     "metadata": {},
     "output_type": "display_data"
    },
    {
     "data": {
      "application/vnd.jupyter.widget-view+json": {
       "model_id": "",
       "version_major": 2,
       "version_minor": 0
      },
      "text/plain": [
       "Output()"
      ]
     },
     "metadata": {},
     "output_type": "display_data"
    },
    {
     "data": {
      "text/html": [
       "<pre style=\"white-space:pre;overflow-x:auto;line-height:normal;font-family:Menlo,'DejaVu Sans Mono',consolas,'Courier New',monospace\">Event loop is already running. Applying nest_asyncio patch to allow async execution...\n",
       "</pre>\n"
      ],
      "text/plain": [
       "Event loop is already running. Applying nest_asyncio patch to allow async execution...\n"
      ]
     },
     "metadata": {},
     "output_type": "display_data"
    },
    {
     "name": "stdout",
     "output_type": "stream",
     "text": [
      " Score: 0.8197300017472964\n",
      "Reason: The story effectively showcases teamwork, strategy, and determination of characters, maintains good balance of tension, action, and resolution, and portrays protagonists' resilience, cooperation, and growth.\n",
      "==============================\n",
      "\n",
      "==============================\n",
      "Using evaluating model: gpt-3.5-turbo to evaluate output from LLM: gpt-4\n"
     ]
    },
    {
     "data": {
      "text/html": [
       "<pre style=\"white-space:pre;overflow-x:auto;line-height:normal;font-family:Menlo,'DejaVu Sans Mono',consolas,'Courier New',monospace\"></pre>\n"
      ],
      "text/plain": []
     },
     "metadata": {},
     "output_type": "display_data"
    },
    {
     "data": {
      "text/html": [
       "<pre style=\"white-space:pre;overflow-x:auto;line-height:normal;font-family:Menlo,'DejaVu Sans Mono',consolas,'Courier New',monospace\">\n",
       "</pre>\n"
      ],
      "text/plain": [
       "\n"
      ]
     },
     "metadata": {},
     "output_type": "display_data"
    },
    {
     "data": {
      "application/vnd.jupyter.widget-view+json": {
       "model_id": "",
       "version_major": 2,
       "version_minor": 0
      },
      "text/plain": [
       "Output()"
      ]
     },
     "metadata": {},
     "output_type": "display_data"
    },
    {
     "data": {
      "text/html": [
       "<pre style=\"white-space:pre;overflow-x:auto;line-height:normal;font-family:Menlo,'DejaVu Sans Mono',consolas,'Courier New',monospace\">Event loop is already running. Applying nest_asyncio patch to allow async execution...\n",
       "</pre>\n"
      ],
      "text/plain": [
       "Event loop is already running. Applying nest_asyncio patch to allow async execution...\n"
      ]
     },
     "metadata": {},
     "output_type": "display_data"
    },
    {
     "name": "stdout",
     "output_type": "stream",
     "text": [
      " Score: 0.7998281705223503\n",
      "Reason: The story provides solid character development, but additional dialogues could enhance the depth of emotions and motivations for the characters.\n",
      "==============================\n",
      "\n",
      "==============================\n",
      "Using evaluating model: gpt-3.5-turbo to evaluate output from LLM: command-nightly\n"
     ]
    },
    {
     "data": {
      "text/html": [
       "<pre style=\"white-space:pre;overflow-x:auto;line-height:normal;font-family:Menlo,'DejaVu Sans Mono',consolas,'Courier New',monospace\"></pre>\n"
      ],
      "text/plain": []
     },
     "metadata": {},
     "output_type": "display_data"
    },
    {
     "data": {
      "text/html": [
       "<pre style=\"white-space:pre;overflow-x:auto;line-height:normal;font-family:Menlo,'DejaVu Sans Mono',consolas,'Courier New',monospace\">\n",
       "</pre>\n"
      ],
      "text/plain": [
       "\n"
      ]
     },
     "metadata": {},
     "output_type": "display_data"
    },
    {
     "data": {
      "application/vnd.jupyter.widget-view+json": {
       "model_id": "",
       "version_major": 2,
       "version_minor": 0
      },
      "text/plain": [
       "Output()"
      ]
     },
     "metadata": {},
     "output_type": "display_data"
    },
    {
     "data": {
      "text/html": [
       "<pre style=\"white-space:pre;overflow-x:auto;line-height:normal;font-family:Menlo,'DejaVu Sans Mono',consolas,'Courier New',monospace\">Event loop is already running. Applying nest_asyncio patch to allow async execution...\n",
       "</pre>\n"
      ],
      "text/plain": [
       "Event loop is already running. Applying nest_asyncio patch to allow async execution...\n"
      ]
     },
     "metadata": {},
     "output_type": "display_data"
    },
    {
     "name": "stdout",
     "output_type": "stream",
     "text": [
      " Score: 0.7619196766505327\n",
      "Reason: The story follows the input format and includes full dialogues, character descriptions, and image descriptions. However, the story could have included more specific details to enhance coherence and engagement.\n",
      "==============================\n",
      "\n",
      "==============================\n",
      "Using evaluating model: gpt-3.5-turbo to evaluate output from LLM: command-r\n"
     ]
    },
    {
     "data": {
      "text/html": [
       "<pre style=\"white-space:pre;overflow-x:auto;line-height:normal;font-family:Menlo,'DejaVu Sans Mono',consolas,'Courier New',monospace\"></pre>\n"
      ],
      "text/plain": []
     },
     "metadata": {},
     "output_type": "display_data"
    },
    {
     "data": {
      "text/html": [
       "<pre style=\"white-space:pre;overflow-x:auto;line-height:normal;font-family:Menlo,'DejaVu Sans Mono',consolas,'Courier New',monospace\">\n",
       "</pre>\n"
      ],
      "text/plain": [
       "\n"
      ]
     },
     "metadata": {},
     "output_type": "display_data"
    },
    {
     "data": {
      "application/vnd.jupyter.widget-view+json": {
       "model_id": "",
       "version_major": 2,
       "version_minor": 0
      },
      "text/plain": [
       "Output()"
      ]
     },
     "metadata": {},
     "output_type": "display_data"
    },
    {
     "data": {
      "text/html": [
       "<pre style=\"white-space:pre;overflow-x:auto;line-height:normal;font-family:Menlo,'DejaVu Sans Mono',consolas,'Courier New',monospace\">Event loop is already running. Applying nest_asyncio patch to allow async execution...\n",
       "</pre>\n"
      ],
      "text/plain": [
       "Event loop is already running. Applying nest_asyncio patch to allow async execution...\n"
      ]
     },
     "metadata": {},
     "output_type": "display_data"
    },
    {
     "name": "stdout",
     "output_type": "stream",
     "text": [
      " Score: 0.7348481597790962\n",
      "Reason: The text aligns with the evaluation steps by providing a story for a sci-fi comic with full dialogues, image descriptions, and characters descriptions. However, the story lacks some coherence and consistency in certain parts.\n",
      "==============================\n",
      "\n",
      "==============================\n",
      "Using evaluating model: gpt-4 to evaluate output from LLM: gpt-3.5-turbo\n"
     ]
    },
    {
     "data": {
      "text/html": [
       "<pre style=\"white-space:pre;overflow-x:auto;line-height:normal;font-family:Menlo,'DejaVu Sans Mono',consolas,'Courier New',monospace\"></pre>\n"
      ],
      "text/plain": []
     },
     "metadata": {},
     "output_type": "display_data"
    },
    {
     "data": {
      "text/html": [
       "<pre style=\"white-space:pre;overflow-x:auto;line-height:normal;font-family:Menlo,'DejaVu Sans Mono',consolas,'Courier New',monospace\">\n",
       "</pre>\n"
      ],
      "text/plain": [
       "\n"
      ]
     },
     "metadata": {},
     "output_type": "display_data"
    },
    {
     "data": {
      "application/vnd.jupyter.widget-view+json": {
       "model_id": "",
       "version_major": 2,
       "version_minor": 0
      },
      "text/plain": [
       "Output()"
      ]
     },
     "metadata": {},
     "output_type": "display_data"
    },
    {
     "data": {
      "text/html": [
       "<pre style=\"white-space:pre;overflow-x:auto;line-height:normal;font-family:Menlo,'DejaVu Sans Mono',consolas,'Courier New',monospace\">Event loop is already running. Applying nest_asyncio patch to allow async execution...\n",
       "</pre>\n"
      ],
      "text/plain": [
       "Event loop is already running. Applying nest_asyncio patch to allow async execution...\n"
      ]
     },
     "metadata": {},
     "output_type": "display_data"
    },
    {
     "name": "stdout",
     "output_type": "stream",
     "text": [
      " Score: 0.9561660914575855\n",
      "Reason: The output aligns with the required format and adheres to the instructions given. The sentences in the output match those in the input. The comic panels, character descriptions, and image descriptions are all of high quality. The assistant managed to successfully integrate the suggestions from other team members into the final story. Despite being asked to emphasize the negative aspects, no critical issues were observed.\n",
      "==============================\n",
      "\n",
      "==============================\n",
      "Using evaluating model: gpt-4 to evaluate output from LLM: gpt-4\n"
     ]
    },
    {
     "data": {
      "text/html": [
       "<pre style=\"white-space:pre;overflow-x:auto;line-height:normal;font-family:Menlo,'DejaVu Sans Mono',consolas,'Courier New',monospace\"></pre>\n"
      ],
      "text/plain": []
     },
     "metadata": {},
     "output_type": "display_data"
    },
    {
     "data": {
      "text/html": [
       "<pre style=\"white-space:pre;overflow-x:auto;line-height:normal;font-family:Menlo,'DejaVu Sans Mono',consolas,'Courier New',monospace\">\n",
       "</pre>\n"
      ],
      "text/plain": [
       "\n"
      ]
     },
     "metadata": {},
     "output_type": "display_data"
    },
    {
     "data": {
      "application/vnd.jupyter.widget-view+json": {
       "model_id": "",
       "version_major": 2,
       "version_minor": 0
      },
      "text/plain": [
       "Output()"
      ]
     },
     "metadata": {},
     "output_type": "display_data"
    },
    {
     "data": {
      "text/html": [
       "<pre style=\"white-space:pre;overflow-x:auto;line-height:normal;font-family:Menlo,'DejaVu Sans Mono',consolas,'Courier New',monospace\">Event loop is already running. Applying nest_asyncio patch to allow async execution...\n",
       "</pre>\n"
      ],
      "text/plain": [
       "Event loop is already running. Applying nest_asyncio patch to allow async execution...\n"
      ]
     },
     "metadata": {},
     "output_type": "display_data"
    },
    {
     "name": "stdout",
     "output_type": "stream",
     "text": [
      " Score: 0.9068076186853036\n",
      "Reason: The 'actual output' accurately follows the format outlined in the 'input' and the dialogue and comic panels are well-written and coherent. The story integrates suggestions from different people and each panel contains both an image description and dialogue. However, some character descriptions could be enhanced for a more immersive experience.\n",
      "==============================\n",
      "\n",
      "==============================\n",
      "Using evaluating model: gpt-4 to evaluate output from LLM: command-nightly\n"
     ]
    },
    {
     "data": {
      "text/html": [
       "<pre style=\"white-space:pre;overflow-x:auto;line-height:normal;font-family:Menlo,'DejaVu Sans Mono',consolas,'Courier New',monospace\"></pre>\n"
      ],
      "text/plain": []
     },
     "metadata": {},
     "output_type": "display_data"
    },
    {
     "data": {
      "text/html": [
       "<pre style=\"white-space:pre;overflow-x:auto;line-height:normal;font-family:Menlo,'DejaVu Sans Mono',consolas,'Courier New',monospace\">\n",
       "</pre>\n"
      ],
      "text/plain": [
       "\n"
      ]
     },
     "metadata": {},
     "output_type": "display_data"
    },
    {
     "data": {
      "application/vnd.jupyter.widget-view+json": {
       "model_id": "",
       "version_major": 2,
       "version_minor": 0
      },
      "text/plain": [
       "Output()"
      ]
     },
     "metadata": {},
     "output_type": "display_data"
    },
    {
     "data": {
      "text/html": [
       "<pre style=\"white-space:pre;overflow-x:auto;line-height:normal;font-family:Menlo,'DejaVu Sans Mono',consolas,'Courier New',monospace\">Event loop is already running. Applying nest_asyncio patch to allow async execution...\n",
       "</pre>\n"
      ],
      "text/plain": [
       "Event loop is already running. Applying nest_asyncio patch to allow async execution...\n"
      ]
     },
     "metadata": {},
     "output_type": "display_data"
    },
    {
     "name": "stdout",
     "output_type": "stream",
     "text": [
      " Score: 0.860771707602485\n",
      "Reason: The story follows the input format very well, with the story title, abstract, panel starts and ends, image descriptions, and dialogues. The coherence and quality of the comic panels, character descriptions, and image descriptions are also very high. However, the dialogues are not specified with the character who says them, which is a criterion in the input instructions.\n",
      "==============================\n",
      "\n",
      "==============================\n",
      "Using evaluating model: gpt-4 to evaluate output from LLM: command-r\n"
     ]
    },
    {
     "data": {
      "text/html": [
       "<pre style=\"white-space:pre;overflow-x:auto;line-height:normal;font-family:Menlo,'DejaVu Sans Mono',consolas,'Courier New',monospace\"></pre>\n"
      ],
      "text/plain": []
     },
     "metadata": {},
     "output_type": "display_data"
    },
    {
     "data": {
      "text/html": [
       "<pre style=\"white-space:pre;overflow-x:auto;line-height:normal;font-family:Menlo,'DejaVu Sans Mono',consolas,'Courier New',monospace\">\n",
       "</pre>\n"
      ],
      "text/plain": [
       "\n"
      ]
     },
     "metadata": {},
     "output_type": "display_data"
    },
    {
     "data": {
      "application/vnd.jupyter.widget-view+json": {
       "model_id": "",
       "version_major": 2,
       "version_minor": 0
      },
      "text/plain": [
       "Output()"
      ]
     },
     "metadata": {},
     "output_type": "display_data"
    },
    {
     "data": {
      "text/html": [
       "<pre style=\"white-space:pre;overflow-x:auto;line-height:normal;font-family:Menlo,'DejaVu Sans Mono',consolas,'Courier New',monospace\">Event loop is already running. Applying nest_asyncio patch to allow async execution...\n",
       "</pre>\n"
      ],
      "text/plain": [
       "Event loop is already running. Applying nest_asyncio patch to allow async execution...\n"
      ]
     },
     "metadata": {},
     "output_type": "display_data"
    },
    {
     "name": "stdout",
     "output_type": "stream",
     "text": [
      " Score: 0.95\n",
      "Reason: The output adheres to the input format and contains a coherent and engaging story suitable for a sci-fi comic. The characters and settings are well-described, and the dialogue aligns with those in the input. The comic panels are well visualized through the descriptions. However, there is a slight issue with the coherence of the storyline, as two different versions of the story are presented with slight variations in the dialogue and sequence of events.\n",
      "==============================\n",
      "\n",
      "==============================\n",
      "Using evaluating model: command-nightly to evaluate output from LLM: gpt-3.5-turbo\n"
     ]
    },
    {
     "data": {
      "text/html": [
       "<pre style=\"white-space:pre;overflow-x:auto;line-height:normal;font-family:Menlo,'DejaVu Sans Mono',consolas,'Courier New',monospace\"></pre>\n"
      ],
      "text/plain": []
     },
     "metadata": {},
     "output_type": "display_data"
    },
    {
     "data": {
      "text/html": [
       "<pre style=\"white-space:pre;overflow-x:auto;line-height:normal;font-family:Menlo,'DejaVu Sans Mono',consolas,'Courier New',monospace\">\n",
       "</pre>\n"
      ],
      "text/plain": [
       "\n"
      ]
     },
     "metadata": {},
     "output_type": "display_data"
    },
    {
     "data": {
      "application/vnd.jupyter.widget-view+json": {
       "model_id": "",
       "version_major": 2,
       "version_minor": 0
      },
      "text/plain": [
       "Output()"
      ]
     },
     "metadata": {},
     "output_type": "display_data"
    },
    {
     "data": {
      "text/html": [
       "<pre style=\"white-space:pre;overflow-x:auto;line-height:normal;font-family:Menlo,'DejaVu Sans Mono',consolas,'Courier New',monospace\">Event loop is already running. Applying nest_asyncio patch to allow async execution...\n",
       "</pre>\n"
      ],
      "text/plain": [
       "Event loop is already running. Applying nest_asyncio patch to allow async execution...\n"
      ]
     },
     "metadata": {},
     "output_type": "display_data"
    },
    {
     "name": "stdout",
     "output_type": "stream",
     "text": [
      " Score: 0.9\n",
      "Reason: The 'actual output' follows the required format and addresses the majority of the evaluation steps. The story structure, coherence, and characterization are well-executed, with clear and concise dialogue. The panels are generally well-described, building tension and showcasing the characters' skills and teamwork. However, the 'actual output' could be improved by providing more specific details in the image descriptions to enhance the visual imagery.\n",
      "==============================\n",
      "\n",
      "==============================\n",
      "Using evaluating model: command-nightly to evaluate output from LLM: gpt-4\n"
     ]
    },
    {
     "data": {
      "text/html": [
       "<pre style=\"white-space:pre;overflow-x:auto;line-height:normal;font-family:Menlo,'DejaVu Sans Mono',consolas,'Courier New',monospace\"></pre>\n"
      ],
      "text/plain": []
     },
     "metadata": {},
     "output_type": "display_data"
    },
    {
     "data": {
      "text/html": [
       "<pre style=\"white-space:pre;overflow-x:auto;line-height:normal;font-family:Menlo,'DejaVu Sans Mono',consolas,'Courier New',monospace\">\n",
       "</pre>\n"
      ],
      "text/plain": [
       "\n"
      ]
     },
     "metadata": {},
     "output_type": "display_data"
    },
    {
     "data": {
      "application/vnd.jupyter.widget-view+json": {
       "model_id": "deaa2cfd2e1a4f8883c9568cb56044c0",
       "version_major": 2,
       "version_minor": 0
      },
      "text/plain": [
       "Output()"
      ]
     },
     "metadata": {},
     "output_type": "display_data"
    },
    {
     "data": {
      "text/html": [
       "<pre style=\"white-space:pre;overflow-x:auto;line-height:normal;font-family:Menlo,'DejaVu Sans Mono',consolas,'Courier New',monospace\">Event loop is already running. Applying nest_asyncio patch to allow async execution...\n",
       "</pre>\n"
      ],
      "text/plain": [
       "Event loop is already running. Applying nest_asyncio patch to allow async execution...\n"
      ]
     },
     "metadata": {},
     "output_type": "display_data"
    },
    {
     "name": "stdout",
     "output_type": "stream",
     "text": [
      " Score: 0.8\n",
      "Reason: The 'actual output' mostly adheres to the specified format with a clear title, abstract, and panel descriptions. The sentences align with the input's requirements, and the story is coherent and engaging. The panel descriptions are generally effective, but the character and image descriptions could be enhanced with more depth, as per the suggestions provided. The story also lacks the requested dialogue for each panel, which is a significant omission.\n",
      "==============================\n",
      "\n",
      "==============================\n",
      "Using evaluating model: command-nightly to evaluate output from LLM: command-nightly\n"
     ]
    },
    {
     "data": {
      "text/html": [
       "<pre style=\"white-space:pre;overflow-x:auto;line-height:normal;font-family:Menlo,'DejaVu Sans Mono',consolas,'Courier New',monospace\"></pre>\n"
      ],
      "text/plain": []
     },
     "metadata": {},
     "output_type": "display_data"
    },
    {
     "data": {
      "text/html": [
       "<pre style=\"white-space:pre;overflow-x:auto;line-height:normal;font-family:Menlo,'DejaVu Sans Mono',consolas,'Courier New',monospace\">\n",
       "</pre>\n"
      ],
      "text/plain": [
       "\n"
      ]
     },
     "metadata": {},
     "output_type": "display_data"
    },
    {
     "data": {
      "application/vnd.jupyter.widget-view+json": {
       "model_id": "e9091ccf5fde43479ef82460d1f951b9",
       "version_major": 2,
       "version_minor": 0
      },
      "text/plain": [
       "Output()"
      ]
     },
     "metadata": {},
     "output_type": "display_data"
    },
    {
     "data": {
      "text/html": [
       "<pre style=\"white-space:pre;overflow-x:auto;line-height:normal;font-family:Menlo,'DejaVu Sans Mono',consolas,'Courier New',monospace\">Event loop is already running. Applying nest_asyncio patch to allow async execution...\n",
       "</pre>\n"
      ],
      "text/plain": [
       "Event loop is already running. Applying nest_asyncio patch to allow async execution...\n"
      ]
     },
     "metadata": {},
     "output_type": "display_data"
    },
    {
     "name": "stdout",
     "output_type": "stream",
     "text": [
      " Score: 0.9\n",
      "Reason: The actual output mostly aligns with the input format and requirements. It includes a title, an overview, character descriptions, and a panel-by-panel breakdown of the story with image descriptions and dialogues. The story integrates suggestions and explores ethical dilemmas, as requested. However, there is room for improvement in the clarity of the image descriptions and the brevity of the dialogues.\n",
      "==============================\n",
      "\n",
      "==============================\n",
      "Using evaluating model: command-nightly to evaluate output from LLM: command-r\n"
     ]
    },
    {
     "data": {
      "text/html": [
       "<pre style=\"white-space:pre;overflow-x:auto;line-height:normal;font-family:Menlo,'DejaVu Sans Mono',consolas,'Courier New',monospace\"></pre>\n"
      ],
      "text/plain": []
     },
     "metadata": {},
     "output_type": "display_data"
    },
    {
     "data": {
      "text/html": [
       "<pre style=\"white-space:pre;overflow-x:auto;line-height:normal;font-family:Menlo,'DejaVu Sans Mono',consolas,'Courier New',monospace\">\n",
       "</pre>\n"
      ],
      "text/plain": [
       "\n"
      ]
     },
     "metadata": {},
     "output_type": "display_data"
    },
    {
     "data": {
      "application/vnd.jupyter.widget-view+json": {
       "model_id": "b35553c69dec4fcbaf83bb05e40b6e57",
       "version_major": 2,
       "version_minor": 0
      },
      "text/plain": [
       "Output()"
      ]
     },
     "metadata": {},
     "output_type": "display_data"
    },
    {
     "data": {
      "text/html": [
       "<pre style=\"white-space:pre;overflow-x:auto;line-height:normal;font-family:Menlo,'DejaVu Sans Mono',consolas,'Courier New',monospace\">Event loop is already running. Applying nest_asyncio patch to allow async execution...\n",
       "</pre>\n"
      ],
      "text/plain": [
       "Event loop is already running. Applying nest_asyncio patch to allow async execution...\n"
      ]
     },
     "metadata": {},
     "output_type": "display_data"
    },
    {
     "name": "stdout",
     "output_type": "stream",
     "text": [
      " Score: 0.9\n",
      "Reason: The story format follows the required input structure, with a title, abstract, and well-described panels. The sentences align with the input's requirements, and the story integrates suggestions from other agents. The comic panels, character and image descriptions are generally of good quality, with a clear, engaging narrative. However, there are minor issues with the flow of dialogue, and the story could benefit from further development of the characters' personalities and relationships.\n",
      "==============================\n",
      "\n",
      "==============================\n",
      "Using evaluating model: command-r to evaluate output from LLM: gpt-3.5-turbo\n"
     ]
    },
    {
     "data": {
      "text/html": [
       "<pre style=\"white-space:pre;overflow-x:auto;line-height:normal;font-family:Menlo,'DejaVu Sans Mono',consolas,'Courier New',monospace\"></pre>\n"
      ],
      "text/plain": []
     },
     "metadata": {},
     "output_type": "display_data"
    },
    {
     "data": {
      "text/html": [
       "<pre style=\"white-space:pre;overflow-x:auto;line-height:normal;font-family:Menlo,'DejaVu Sans Mono',consolas,'Courier New',monospace\">\n",
       "</pre>\n"
      ],
      "text/plain": [
       "\n"
      ]
     },
     "metadata": {},
     "output_type": "display_data"
    },
    {
     "data": {
      "application/vnd.jupyter.widget-view+json": {
       "model_id": "c7b2fd3a428e4d209294878c033d05da",
       "version_major": 2,
       "version_minor": 0
      },
      "text/plain": [
       "Output()"
      ]
     },
     "metadata": {},
     "output_type": "display_data"
    },
    {
     "data": {
      "text/html": [
       "<pre style=\"white-space:pre;overflow-x:auto;line-height:normal;font-family:Menlo,'DejaVu Sans Mono',consolas,'Courier New',monospace\">Event loop is already running. Applying nest_asyncio patch to allow async execution...\n",
       "</pre>\n"
      ],
      "text/plain": [
       "Event loop is already running. Applying nest_asyncio patch to allow async execution...\n"
      ]
     },
     "metadata": {},
     "output_type": "display_data"
    },
    {
     "name": "stdout",
     "output_type": "stream",
     "text": [
      " Score: 0.9\n",
      "Reason: The story follows the required format with a clear title, abstract, and panel descriptions. It integrates suggestions well, with full dialogues that are short and engaging. The comic has a clear narrative arc, showcasing teamwork and character development. The evaluation criteria are mostly met, but there is room for improvement in the image descriptions, which could be more detailed and visually captivating.\n",
      "==============================\n",
      "\n",
      "==============================\n",
      "Using evaluating model: command-r to evaluate output from LLM: gpt-4\n"
     ]
    },
    {
     "data": {
      "text/html": [
       "<pre style=\"white-space:pre;overflow-x:auto;line-height:normal;font-family:Menlo,'DejaVu Sans Mono',consolas,'Courier New',monospace\"></pre>\n"
      ],
      "text/plain": []
     },
     "metadata": {},
     "output_type": "display_data"
    },
    {
     "data": {
      "text/html": [
       "<pre style=\"white-space:pre;overflow-x:auto;line-height:normal;font-family:Menlo,'DejaVu Sans Mono',consolas,'Courier New',monospace\">\n",
       "</pre>\n"
      ],
      "text/plain": [
       "\n"
      ]
     },
     "metadata": {},
     "output_type": "display_data"
    },
    {
     "data": {
      "application/vnd.jupyter.widget-view+json": {
       "model_id": "75eec3b3a98f4133834e4f2358a4a9d1",
       "version_major": 2,
       "version_minor": 0
      },
      "text/plain": [
       "Output()"
      ]
     },
     "metadata": {},
     "output_type": "display_data"
    },
    {
     "data": {
      "text/html": [
       "<pre style=\"white-space:pre;overflow-x:auto;line-height:normal;font-family:Menlo,'DejaVu Sans Mono',consolas,'Courier New',monospace\">Event loop is already running. Applying nest_asyncio patch to allow async execution...\n",
       "</pre>\n"
      ],
      "text/plain": [
       "Event loop is already running. Applying nest_asyncio patch to allow async execution...\n"
      ]
     },
     "metadata": {},
     "output_type": "display_data"
    },
    {
     "name": "stdout",
     "output_type": "stream",
     "text": [
      " Score: 0.8\n",
      "Reason: The 'actual output' follows the required format with a title, abstract, and panel descriptions. It captures the key narrative beats and adheres to the specified dialogue length. The story structure is coherent, and the panel descriptions are generally effective, conveying the necessary visuals and actions. However, the 'actual output' could be improved by addressing the suggestions for enhancing character development, particularly the addition of suggested dialogues to deepen the characterization and emphasize their emotions and motivations.\n",
      "==============================\n",
      "\n",
      "==============================\n",
      "Using evaluating model: command-r to evaluate output from LLM: command-nightly\n"
     ]
    },
    {
     "data": {
      "text/html": [
       "<pre style=\"white-space:pre;overflow-x:auto;line-height:normal;font-family:Menlo,'DejaVu Sans Mono',consolas,'Courier New',monospace\"></pre>\n"
      ],
      "text/plain": []
     },
     "metadata": {},
     "output_type": "display_data"
    },
    {
     "data": {
      "text/html": [
       "<pre style=\"white-space:pre;overflow-x:auto;line-height:normal;font-family:Menlo,'DejaVu Sans Mono',consolas,'Courier New',monospace\">\n",
       "</pre>\n"
      ],
      "text/plain": [
       "\n"
      ]
     },
     "metadata": {},
     "output_type": "display_data"
    },
    {
     "data": {
      "application/vnd.jupyter.widget-view+json": {
       "model_id": "e4c19de5f4044ae489cd86b836618c3e",
       "version_major": 2,
       "version_minor": 0
      },
      "text/plain": [
       "Output()"
      ]
     },
     "metadata": {},
     "output_type": "display_data"
    },
    {
     "data": {
      "text/html": [
       "<pre style=\"white-space:pre;overflow-x:auto;line-height:normal;font-family:Menlo,'DejaVu Sans Mono',consolas,'Courier New',monospace\">Event loop is already running. Applying nest_asyncio patch to allow async execution...\n",
       "</pre>\n"
      ],
      "text/plain": [
       "Event loop is already running. Applying nest_asyncio patch to allow async execution...\n"
      ]
     },
     "metadata": {},
     "output_type": "display_data"
    },
    {
     "name": "stdout",
     "output_type": "stream",
     "text": [
      " Score: 0.8\n",
      "Reason: The 'actual output' follows the required format and addresses most of the criteria. The story structure, character descriptions, and image dialogues are well-crafted and coherent. However, there is room for improvement in the critical evaluation, especially regarding the negative aspects. The story could benefit from further exploration of the consequences and ethical dilemmas, adding depth to the characters' motivations and the impact of their discovery.\n",
      "==============================\n",
      "\n",
      "==============================\n",
      "Using evaluating model: command-r to evaluate output from LLM: command-r\n"
     ]
    },
    {
     "data": {
      "text/html": [
       "<pre style=\"white-space:pre;overflow-x:auto;line-height:normal;font-family:Menlo,'DejaVu Sans Mono',consolas,'Courier New',monospace\"></pre>\n"
      ],
      "text/plain": []
     },
     "metadata": {},
     "output_type": "display_data"
    },
    {
     "data": {
      "text/html": [
       "<pre style=\"white-space:pre;overflow-x:auto;line-height:normal;font-family:Menlo,'DejaVu Sans Mono',consolas,'Courier New',monospace\">\n",
       "</pre>\n"
      ],
      "text/plain": [
       "\n"
      ]
     },
     "metadata": {},
     "output_type": "display_data"
    },
    {
     "name": "stdout",
     "output_type": "stream",
     "text": [
      " Score: 0.9\n",
      "Reason: The 'actual output' mostly adheres to the 'input' requirements. The story format is coherent and the panel descriptions and dialogues are generally well-crafted and concise. The comic has an interesting sci-fi premise and the characters are introduced effectively. However, the 'actual output' could be improved by providing more specific image descriptions and ensuring that the story is fully integrated with the suggestions from other agents, as there is no mention of 'story_assistant' in the output.\n",
      "==============================\n"
     ]
    }
   ],
   "source": [
    "for enabled_evaluation_model in enabled_evaluation_models:\n",
    "    eval_model_instance = evaluation_models[enabled_evaluation_model]\n",
    "    for provided_output, enabled_model in zip(stories, enabled_models):\n",
    "        print(\"\\n==============================\")\n",
    "        print(f\"Using evaluating model: {enabled_evaluation_model} to evaluate output from LLM: {enabled_model}\")\n",
    "        #print(provided_output)\n",
    "        test_case = LLMTestCase(input=(story_assistant_message+start_message), actual_output=provided_output)\n",
    "        coherence_metric = GEval(\n",
    "            model=eval_model_instance,  # API usage\n",
    "            name=\"Comic evaluation\",\n",
    "            # NOTE: you can only provide either criteria or evaluation_steps, and not both\n",
    "            #criteria=\"Comic evaluation - the collective quality of comic panels, characters and images descriptions\",\n",
    "            evaluation_steps=[\n",
    "                \"The 'actual output' is the result of an LLMs group chat, evaluate the chat coherence\"\n",
    "                \"Check whether the output format in 'actual output' aligns with that required in 'input'\",\n",
    "                \"Check whether the sentences in 'actual output' aligns with that in 'input'\",\n",
    "                \"Evaluate the general quality of comic panels in 'actual output' last story version\",\n",
    "                \"Evaluate the general quality of characters descriptions in 'actual output' last story version\",\n",
    "                \"Evaluate the general quality of images descriptions in 'actual output' last story version\",\n",
    "                \"Be critical and emphasize the negative aspects of your evaluation last story version\",\n",
    "            ],\n",
    "            evaluation_params=[LLMTestCaseParams.INPUT, LLMTestCaseParams.ACTUAL_OUTPUT],\n",
    "        )\n",
    "    \n",
    "        coherence_metric.measure(test_case)\n",
    "        print(f\" Score: {coherence_metric.score}\")\n",
    "        print(f\"Reason: {coherence_metric.reason}\")\n",
    "        print(\"==============================\")"
   ]
  },
  {
   "cell_type": "code",
   "execution_count": null,
   "metadata": {},
   "outputs": [],
   "source": []
  },
  {
   "cell_type": "code",
   "execution_count": null,
   "metadata": {},
   "outputs": [],
   "source": []
  }
 ],
 "metadata": {
  "kernelspec": {
   "display_name": "Python 3 (ipykernel)",
   "language": "python",
   "name": "python3"
  },
  "language_info": {
   "codemirror_mode": {
    "name": "ipython",
    "version": 3
   },
   "file_extension": ".py",
   "mimetype": "text/x-python",
   "name": "python",
   "nbconvert_exporter": "python",
   "pygments_lexer": "ipython3",
   "version": "3.10.13"
  }
 },
 "nbformat": 4,
 "nbformat_minor": 4
}
